{
 "cells": [
  {
   "cell_type": "markdown",
   "id": "7a4b476c-8f8e-44b1-aa57-a09b221fe361",
   "metadata": {},
   "source": [
    "# VIDEO GAMES SALES PREDICTIONS (2024)"
   ]
  },
  {
   "cell_type": "markdown",
   "id": "0703202d-9f8d-4da9-ba3d-5c0c690f6739",
   "metadata": {},
   "source": [
    "### Library"
   ]
  },
  {
   "cell_type": "code",
   "execution_count": 1,
   "id": "bd444678-51b2-4c5e-89a8-7e8364e2c2b2",
   "metadata": {
    "tags": []
   },
   "outputs": [],
   "source": [
    "# Data Table \n",
    "import numpy as np                       # matrices & arrays\n",
    "import pandas as pd                      # Data Table & dataframe \n",
    "from skimpy import skim                  # skim data\n",
    "from prettytable import PrettyTable      # Create Tables\n",
    "\n",
    "# Visualization \n",
    "import seaborn as sns\n",
    "import matplotlib.pyplot as plt\n",
    "\n",
    "# Hypothesis Testing \n",
    "import scipy.stats as sps                 # statistical tests\n",
    "from scipy.stats.mstats import winsorize  # Winsorizing\n",
    "import statsmodels.api as sm              # regression\n",
    "from statsmodels.formula.api import ols   # regression model\n",
    "from scipy.stats import boxcox            # ideal way to transform skewed to normal\n",
    "\n",
    "# Machine Learning \n",
    "import sklearn as sklearn                 # scikit learn package\n",
    "from sklearn.preprocessing import PolynomialFeatures\n",
    "                                          # Polynomial Features\n",
    "from sklearn.decomposition import PCA     # PCA\n",
    "from sklearn.feature_extraction import DictVectorizer\n",
    "                                          # Categorical encoding\n",
    "from sklearn.preprocessing import OrdinalEncoder, LabelEncoder, LabelBinarizer, OneHotEncoder\n",
    "                                          # Categorical Encoding\n",
    "from sklearn.preprocessing import StandardScaler, MinMaxScaler, RobustScaler\n",
    "                                          # Continuous Scalers \n",
    "from sklearn.model_selection import train_test_split\n",
    "                                          # split train & test set\n",
    "from sklearn.model_selection import KFold, cross_val_predict\n",
    "                                          # Cross-validation \n",
    "from sklearn.pipeline import Pipeline\n",
    "                                          # Pipeline the cross validation\n",
    "\n",
    "from sklearn.model_selection import GridSearchCV\n",
    "                                          # Grid Search CV \n",
    "from sklearn.metrics import r2_score, mean_squared_error\n",
    "                                          # Model Evaluation Metrics\n",
    "\n",
    "\n",
    "# Options\n",
    "import warnings\n",
    "warnings.filterwarnings('ignore')         # suppress all warnings; switch 'ignore' to 'default' to to re-enable it again\n",
    "pd.set_option('display.max_rows', 500)    # display max rows \n",
    "pd.set_option('display.max_columns', 500) #         max cols\n",
    "pd.set_option('display.width', 1000)      #         max width\n",
    "pd.set_option('display.precision', 2)     #         round 2 places after decimal "
   ]
  },
  {
   "cell_type": "markdown",
   "id": "58ff6858-3d78-4160-a895-6e6defe0156e",
   "metadata": {},
   "source": [
    "### About"
   ]
  },
  {
   "cell_type": "markdown",
   "id": "1523b1c2-8d14-4107-8a48-caeeb4055a41",
   "metadata": {},
   "source": [
    "### The Dataset"
   ]
  },
  {
   "cell_type": "code",
   "execution_count": 2,
   "id": "3bbe2518-dcd4-4392-93d0-e10e8d062f77",
   "metadata": {
    "tags": []
   },
   "outputs": [
    {
     "name": "stdout",
     "output_type": "stream",
     "text": [
      "<class 'pandas.core.frame.DataFrame'>\n",
      "RangeIndex: 16719 entries, 0 to 16718\n",
      "Data columns (total 16 columns):\n",
      " #   Column         Non-Null Count  Dtype  \n",
      "---  ------         --------------  -----  \n",
      " 0   name           16717 non-null  object \n",
      " 1   platform       16719 non-null  object \n",
      " 2   release_year   16450 non-null  float64\n",
      " 3   genre          16717 non-null  object \n",
      " 4   publisher      16665 non-null  object \n",
      " 5   na_sales       16719 non-null  float64\n",
      " 6   eu_sales       16719 non-null  float64\n",
      " 7   jp_sales       16719 non-null  float64\n",
      " 8   other_sales    16719 non-null  float64\n",
      " 9   global_sales   16719 non-null  float64\n",
      " 10  critic_scores  8137 non-null   float64\n",
      " 11  critic_count   8137 non-null   float64\n",
      " 12  user_scores    7590 non-null   float64\n",
      " 13  user_count     7590 non-null   float64\n",
      " 14  developer      10096 non-null  object \n",
      " 15  rating         9950 non-null   object \n",
      "dtypes: float64(10), object(6)\n",
      "memory usage: 2.0+ MB\n"
     ]
    }
   ],
   "source": [
    "# importing\n",
    "sales = pd.read_csv('sales.csv')\n",
    "\n",
    "# rename \n",
    "sales.columns = ['name','platform','release_year',\n",
    "                 'genre','publisher','na_sales','eu_sales',\n",
    "                 'jp_sales','other_sales','global_sales',\n",
    "                 'critic_scores','critic_count','user_scores',\n",
    "                 'user_count','developer','rating']\n",
    "\n",
    "# Information\n",
    "sales.info()"
   ]
  },
  {
   "cell_type": "markdown",
   "id": "5e6d8c91-9714-47a0-9f94-7af2d98f8b50",
   "metadata": {},
   "source": [
    "### FUNCTIONS"
   ]
  },
  {
   "cell_type": "markdown",
   "id": "2eb48a6a-5411-479a-9206-e2069ffdfe1d",
   "metadata": {},
   "source": [
    "##### nadup()"
   ]
  },
  {
   "cell_type": "code",
   "execution_count": 3,
   "id": "af5d1f0b-4533-45c1-bfaa-54f020c54f73",
   "metadata": {
    "tags": []
   },
   "outputs": [],
   "source": [
    "# Functions for calculation\n",
    "def nadup(df):\n",
    "    arr, arr2, arr3, arr4 = [], [], [], []\n",
    "    for col in df.columns:\n",
    "      temp = [str(x) for x in df[col].unique()]    # convert cols to str\n",
    "      temp2 = df[col].isna().sum()                 # calculate sum of NaN    \n",
    "      temp3 = (df[col].isna().sum())/len(df)*100   # calculate % of NaN\n",
    "      arr.append(', '.join(temp))                   \n",
    "      arr2.append(len(temp))\n",
    "      arr3.append(temp2)\n",
    "      arr4.append(round(temp3,1))\n",
    "    print('The dataframe has a total of %i rows & %i columns. A total of %i NA values were detected.\\n' %(df.shape[0],df.shape[1],df.isnull().any(axis=1).sum()),\n",
    "          ' This dataframe has',df.duplicated().sum(),'duplicated rows')\n",
    "    summary = pd.DataFrame({\n",
    "        'Variables': df.columns,\n",
    "        'Type':df.dtypes.to_list(),\n",
    "        'Unique Values':arr,\n",
    "        'Sum of Unique Values': arr2,\n",
    "        'Sum of NaN Values': arr3,\n",
    "        '% of NaN': arr4}).sort_values('% of NaN', ascending = False)\n",
    "    display(summary)"
   ]
  },
  {
   "cell_type": "markdown",
   "id": "87400e27-f884-4d1a-8517-2b60c1906d20",
   "metadata": {},
   "source": [
    "# DATA CLEANING "
   ]
  },
  {
   "cell_type": "markdown",
   "id": "b133314c-96e5-44d4-a502-80216db87ef3",
   "metadata": {},
   "source": [
    "### Duplicates"
   ]
  },
  {
   "cell_type": "code",
   "execution_count": 4,
   "id": "d399f4e6-e08b-4b85-b0bf-adadf8ccfe1a",
   "metadata": {
    "tags": []
   },
   "outputs": [
    {
     "name": "stdout",
     "output_type": "stream",
     "text": [
      "The dataframe has a total of 16719 rows & 16 columns. A total of 9894 NA values were detected.\n",
      "  This dataframe has 0 duplicated rows\n"
     ]
    },
    {
     "data": {
      "text/html": [
       "<div>\n",
       "<style scoped>\n",
       "    .dataframe tbody tr th:only-of-type {\n",
       "        vertical-align: middle;\n",
       "    }\n",
       "\n",
       "    .dataframe tbody tr th {\n",
       "        vertical-align: top;\n",
       "    }\n",
       "\n",
       "    .dataframe thead th {\n",
       "        text-align: right;\n",
       "    }\n",
       "</style>\n",
       "<table border=\"1\" class=\"dataframe\">\n",
       "  <thead>\n",
       "    <tr style=\"text-align: right;\">\n",
       "      <th></th>\n",
       "      <th>Variables</th>\n",
       "      <th>Type</th>\n",
       "      <th>Unique Values</th>\n",
       "      <th>Sum of Unique Values</th>\n",
       "      <th>Sum of NaN Values</th>\n",
       "      <th>% of NaN</th>\n",
       "    </tr>\n",
       "  </thead>\n",
       "  <tbody>\n",
       "    <tr>\n",
       "      <th>12</th>\n",
       "      <td>user_scores</td>\n",
       "      <td>float64</td>\n",
       "      <td>8.0, nan, 8.3, 8.5, 6.6, 8.4, 8.6, 7.7, 6.3, 7...</td>\n",
       "      <td>96</td>\n",
       "      <td>9129</td>\n",
       "      <td>54.6</td>\n",
       "    </tr>\n",
       "    <tr>\n",
       "      <th>13</th>\n",
       "      <td>user_count</td>\n",
       "      <td>float64</td>\n",
       "      <td>322.0, nan, 709.0, 192.0, 431.0, 129.0, 594.0,...</td>\n",
       "      <td>889</td>\n",
       "      <td>9129</td>\n",
       "      <td>54.6</td>\n",
       "    </tr>\n",
       "    <tr>\n",
       "      <th>10</th>\n",
       "      <td>critic_scores</td>\n",
       "      <td>float64</td>\n",
       "      <td>76.0, nan, 82.0, 80.0, 89.0, 58.0, 87.0, 91.0,...</td>\n",
       "      <td>83</td>\n",
       "      <td>8582</td>\n",
       "      <td>51.3</td>\n",
       "    </tr>\n",
       "    <tr>\n",
       "      <th>11</th>\n",
       "      <td>critic_count</td>\n",
       "      <td>float64</td>\n",
       "      <td>51.0, nan, 73.0, 65.0, 41.0, 80.0, 64.0, 63.0,...</td>\n",
       "      <td>107</td>\n",
       "      <td>8582</td>\n",
       "      <td>51.3</td>\n",
       "    </tr>\n",
       "    <tr>\n",
       "      <th>15</th>\n",
       "      <td>rating</td>\n",
       "      <td>object</td>\n",
       "      <td>E, nan, M, T, E10+, K-A, AO, EC, RP</td>\n",
       "      <td>9</td>\n",
       "      <td>6769</td>\n",
       "      <td>40.5</td>\n",
       "    </tr>\n",
       "    <tr>\n",
       "      <th>14</th>\n",
       "      <td>developer</td>\n",
       "      <td>object</td>\n",
       "      <td>Nintendo, nan, Good Science Studio, Rockstar N...</td>\n",
       "      <td>1697</td>\n",
       "      <td>6623</td>\n",
       "      <td>39.6</td>\n",
       "    </tr>\n",
       "    <tr>\n",
       "      <th>2</th>\n",
       "      <td>release_year</td>\n",
       "      <td>float64</td>\n",
       "      <td>2006.0, 1985.0, 2008.0, 2009.0, 1996.0, 1989.0...</td>\n",
       "      <td>40</td>\n",
       "      <td>269</td>\n",
       "      <td>1.6</td>\n",
       "    </tr>\n",
       "    <tr>\n",
       "      <th>4</th>\n",
       "      <td>publisher</td>\n",
       "      <td>object</td>\n",
       "      <td>Nintendo, Microsoft Game Studios, Take-Two Int...</td>\n",
       "      <td>583</td>\n",
       "      <td>54</td>\n",
       "      <td>0.3</td>\n",
       "    </tr>\n",
       "    <tr>\n",
       "      <th>0</th>\n",
       "      <td>name</td>\n",
       "      <td>object</td>\n",
       "      <td>Wii Sports, Super Mario Bros., Mario Kart Wii,...</td>\n",
       "      <td>11563</td>\n",
       "      <td>2</td>\n",
       "      <td>0.0</td>\n",
       "    </tr>\n",
       "    <tr>\n",
       "      <th>1</th>\n",
       "      <td>platform</td>\n",
       "      <td>object</td>\n",
       "      <td>Wii, NES, GB, DS, X360, PS3, PS2, SNES, GBA, P...</td>\n",
       "      <td>31</td>\n",
       "      <td>0</td>\n",
       "      <td>0.0</td>\n",
       "    </tr>\n",
       "    <tr>\n",
       "      <th>3</th>\n",
       "      <td>genre</td>\n",
       "      <td>object</td>\n",
       "      <td>Sports, Platform, Racing, Role-Playing, Puzzle...</td>\n",
       "      <td>13</td>\n",
       "      <td>2</td>\n",
       "      <td>0.0</td>\n",
       "    </tr>\n",
       "    <tr>\n",
       "      <th>5</th>\n",
       "      <td>na_sales</td>\n",
       "      <td>float64</td>\n",
       "      <td>41.36, 29.08, 15.68, 15.61, 11.27, 23.2, 11.28...</td>\n",
       "      <td>402</td>\n",
       "      <td>0</td>\n",
       "      <td>0.0</td>\n",
       "    </tr>\n",
       "    <tr>\n",
       "      <th>6</th>\n",
       "      <td>eu_sales</td>\n",
       "      <td>float64</td>\n",
       "      <td>28.96, 3.58, 12.76, 10.93, 8.89, 2.26, 9.14, 9...</td>\n",
       "      <td>307</td>\n",
       "      <td>0</td>\n",
       "      <td>0.0</td>\n",
       "    </tr>\n",
       "    <tr>\n",
       "      <th>7</th>\n",
       "      <td>jp_sales</td>\n",
       "      <td>float64</td>\n",
       "      <td>3.77, 6.81, 3.79, 3.28, 10.22, 4.22, 6.5, 2.93...</td>\n",
       "      <td>244</td>\n",
       "      <td>0</td>\n",
       "      <td>0.0</td>\n",
       "    </tr>\n",
       "    <tr>\n",
       "      <th>8</th>\n",
       "      <td>other_sales</td>\n",
       "      <td>float64</td>\n",
       "      <td>8.45, 0.77, 3.29, 2.95, 1.0, 0.58, 2.88, 2.84,...</td>\n",
       "      <td>155</td>\n",
       "      <td>0</td>\n",
       "      <td>0.0</td>\n",
       "    </tr>\n",
       "    <tr>\n",
       "      <th>9</th>\n",
       "      <td>global_sales</td>\n",
       "      <td>float64</td>\n",
       "      <td>82.53, 40.24, 35.52, 32.77, 31.37, 30.26, 29.8...</td>\n",
       "      <td>629</td>\n",
       "      <td>0</td>\n",
       "      <td>0.0</td>\n",
       "    </tr>\n",
       "  </tbody>\n",
       "</table>\n",
       "</div>"
      ],
      "text/plain": [
       "        Variables     Type                                      Unique Values  Sum of Unique Values  Sum of NaN Values  % of NaN\n",
       "12    user_scores  float64  8.0, nan, 8.3, 8.5, 6.6, 8.4, 8.6, 7.7, 6.3, 7...                    96               9129      54.6\n",
       "13     user_count  float64  322.0, nan, 709.0, 192.0, 431.0, 129.0, 594.0,...                   889               9129      54.6\n",
       "10  critic_scores  float64  76.0, nan, 82.0, 80.0, 89.0, 58.0, 87.0, 91.0,...                    83               8582      51.3\n",
       "11   critic_count  float64  51.0, nan, 73.0, 65.0, 41.0, 80.0, 64.0, 63.0,...                   107               8582      51.3\n",
       "15         rating   object                E, nan, M, T, E10+, K-A, AO, EC, RP                     9               6769      40.5\n",
       "14      developer   object  Nintendo, nan, Good Science Studio, Rockstar N...                  1697               6623      39.6\n",
       "2    release_year  float64  2006.0, 1985.0, 2008.0, 2009.0, 1996.0, 1989.0...                    40                269       1.6\n",
       "4       publisher   object  Nintendo, Microsoft Game Studios, Take-Two Int...                   583                 54       0.3\n",
       "0            name   object  Wii Sports, Super Mario Bros., Mario Kart Wii,...                 11563                  2       0.0\n",
       "1        platform   object  Wii, NES, GB, DS, X360, PS3, PS2, SNES, GBA, P...                    31                  0       0.0\n",
       "3           genre   object  Sports, Platform, Racing, Role-Playing, Puzzle...                    13                  2       0.0\n",
       "5        na_sales  float64  41.36, 29.08, 15.68, 15.61, 11.27, 23.2, 11.28...                   402                  0       0.0\n",
       "6        eu_sales  float64  28.96, 3.58, 12.76, 10.93, 8.89, 2.26, 9.14, 9...                   307                  0       0.0\n",
       "7        jp_sales  float64  3.77, 6.81, 3.79, 3.28, 10.22, 4.22, 6.5, 2.93...                   244                  0       0.0\n",
       "8     other_sales  float64  8.45, 0.77, 3.29, 2.95, 1.0, 0.58, 2.88, 2.84,...                   155                  0       0.0\n",
       "9    global_sales  float64  82.53, 40.24, 35.52, 32.77, 31.37, 30.26, 29.8...                   629                  0       0.0"
      ]
     },
     "metadata": {},
     "output_type": "display_data"
    }
   ],
   "source": [
    "nadup(sales)"
   ]
  },
  {
   "cell_type": "markdown",
   "id": "91824335-feb9-4e13-97a9-b958294736a8",
   "metadata": {},
   "source": [
    "### NA values"
   ]
  },
  {
   "cell_type": "code",
   "execution_count": null,
   "id": "65472e85-a4ad-4853-80cd-e37bbb07d776",
   "metadata": {},
   "outputs": [],
   "source": []
  },
  {
   "cell_type": "markdown",
   "id": "d194e0ad-52bf-4204-9a51-4cb09ff147ea",
   "metadata": {},
   "source": [
    "# Exploratory Data Analysis (EDA)"
   ]
  },
  {
   "cell_type": "markdown",
   "id": "608c4b8f-fdca-404a-a853-6b7ffcaba736",
   "metadata": {},
   "source": [
    "### Pairplot "
   ]
  },
  {
   "cell_type": "code",
   "execution_count": null,
   "id": "e4c9414e-a82c-477d-a46a-076c96864b5c",
   "metadata": {},
   "outputs": [],
   "source": []
  },
  {
   "cell_type": "markdown",
   "id": "c86371a1-5df2-4b35-a42e-9cffde8e4bfa",
   "metadata": {},
   "source": [
    "# Pre-processing "
   ]
  },
  {
   "cell_type": "markdown",
   "id": "b23ecd43-ef8c-4e79-a708-eada90233533",
   "metadata": {},
   "source": [
    "### Standardization "
   ]
  },
  {
   "cell_type": "code",
   "execution_count": null,
   "id": "72c5fa6c-f401-4a6c-9eb7-8d7ab13b07ed",
   "metadata": {},
   "outputs": [],
   "source": []
  },
  {
   "cell_type": "markdown",
   "id": "ae35ec52-349b-4d08-b03f-cdd758a52580",
   "metadata": {},
   "source": [
    "### Outliers"
   ]
  },
  {
   "cell_type": "code",
   "execution_count": null,
   "id": "476b95b3-66ba-4533-885a-ac5275b81c83",
   "metadata": {},
   "outputs": [],
   "source": []
  },
  {
   "cell_type": "markdown",
   "id": "7610518b-0c8b-400d-b0f2-ceae15d8f874",
   "metadata": {},
   "source": [
    "### Features Engineering "
   ]
  },
  {
   "cell_type": "code",
   "execution_count": null,
   "id": "5ad960a6-a9d0-4a8b-81cf-f0eb3bc82dc9",
   "metadata": {},
   "outputs": [],
   "source": []
  },
  {
   "cell_type": "markdown",
   "id": "cc5033fc-58d1-415d-b445-706cd1d6a6d0",
   "metadata": {},
   "source": [
    "# Data Splits"
   ]
  },
  {
   "cell_type": "markdown",
   "id": "e081d153-8ea1-44fe-8c91-ce1dbf1cb64f",
   "metadata": {},
   "source": [
    "### Train-Test Split"
   ]
  },
  {
   "cell_type": "code",
   "execution_count": null,
   "id": "82ea3dde-d3c8-49d8-8510-5292b00eb904",
   "metadata": {},
   "outputs": [],
   "source": []
  },
  {
   "cell_type": "markdown",
   "id": "2c21f07d-5d9d-4015-b7fb-92b07c8a555a",
   "metadata": {},
   "source": [
    "### Cross-validation "
   ]
  },
  {
   "cell_type": "code",
   "execution_count": null,
   "id": "a2206519-3485-41a5-9146-7f943ab96c8b",
   "metadata": {},
   "outputs": [],
   "source": []
  },
  {
   "cell_type": "markdown",
   "id": "308469e7-15f6-46dd-85b5-b1aa9e77c585",
   "metadata": {},
   "source": [
    "# Supervised ML Model - Regression"
   ]
  },
  {
   "cell_type": "markdown",
   "id": "3773264e-fe61-42b5-81c1-32bf8ebfd7cb",
   "metadata": {},
   "source": [
    "### Model 1"
   ]
  },
  {
   "cell_type": "code",
   "execution_count": null,
   "id": "88f05e37-53c8-4e19-914b-42e920f46048",
   "metadata": {},
   "outputs": [],
   "source": []
  },
  {
   "cell_type": "markdown",
   "id": "1be59234-b3f6-45d2-8eeb-5a1f31bdf587",
   "metadata": {},
   "source": [
    "### Model 2"
   ]
  },
  {
   "cell_type": "code",
   "execution_count": null,
   "id": "c09d444f-671a-44cc-8be3-863109dd591e",
   "metadata": {},
   "outputs": [],
   "source": []
  },
  {
   "cell_type": "markdown",
   "id": "03f36570-c602-4996-9ea2-d187d7544d06",
   "metadata": {},
   "source": [
    "### Model 3"
   ]
  },
  {
   "cell_type": "code",
   "execution_count": null,
   "id": "d8367f49-21bd-48e4-8ef8-b135a5e264d6",
   "metadata": {},
   "outputs": [],
   "source": []
  },
  {
   "cell_type": "markdown",
   "id": "6a1715c9-7966-4b04-8eda-df30ac858274",
   "metadata": {},
   "source": [
    "### Evaluation Metric"
   ]
  },
  {
   "cell_type": "markdown",
   "id": "739835ba-607c-4563-9715-b092b70750b3",
   "metadata": {},
   "source": [
    "##### Comparison Table"
   ]
  },
  {
   "cell_type": "code",
   "execution_count": null,
   "id": "fd50d8c9-b820-4e5b-9638-72108f206d1d",
   "metadata": {},
   "outputs": [],
   "source": []
  },
  {
   "cell_type": "markdown",
   "id": "8fda2b5b-8c50-44f4-9317-6054dbdaa78d",
   "metadata": {},
   "source": [
    "##### Plot of all Prediction"
   ]
  },
  {
   "cell_type": "code",
   "execution_count": null,
   "id": "69f4643a-c3b6-4118-a1ab-494b41e69dbb",
   "metadata": {},
   "outputs": [],
   "source": []
  },
  {
   "cell_type": "markdown",
   "id": "4724c9a7-0f79-4209-8be7-096871a21d1a",
   "metadata": {},
   "source": [
    "# CONCLUSION"
   ]
  },
  {
   "cell_type": "code",
   "execution_count": null,
   "id": "f32f8658-7a59-4499-b2a0-6a1e0b73cf7e",
   "metadata": {},
   "outputs": [],
   "source": []
  },
  {
   "cell_type": "markdown",
   "id": "e76bde87-7f27-4b3a-b398-3d07b7bfb26c",
   "metadata": {},
   "source": [
    "### Minh K. Chau"
   ]
  },
  {
   "cell_type": "code",
   "execution_count": null,
   "id": "8abaa13a-c6a5-4a9c-bc4a-238f34af093b",
   "metadata": {},
   "outputs": [],
   "source": []
  }
 ],
 "metadata": {
  "kernelspec": {
   "display_name": "Python 3 (ipykernel)",
   "language": "python",
   "name": "python3"
  },
  "language_info": {
   "codemirror_mode": {
    "name": "ipython",
    "version": 3
   },
   "file_extension": ".py",
   "mimetype": "text/x-python",
   "name": "python",
   "nbconvert_exporter": "python",
   "pygments_lexer": "ipython3",
   "version": "3.11.5"
  }
 },
 "nbformat": 4,
 "nbformat_minor": 5
}
