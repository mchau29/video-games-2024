{
 "cells": [
  {
   "cell_type": "markdown",
   "id": "7a4b476c-8f8e-44b1-aa57-a09b221fe361",
   "metadata": {},
   "source": [
    "# VIDEO GAMES SALES PREDICTIONS (2024)"
   ]
  },
  {
   "cell_type": "markdown",
   "id": "0703202d-9f8d-4da9-ba3d-5c0c690f6739",
   "metadata": {},
   "source": [
    "### Library"
   ]
  },
  {
   "cell_type": "code",
   "execution_count": null,
   "id": "bd444678-51b2-4c5e-89a8-7e8364e2c2b2",
   "metadata": {
    "tags": []
   },
   "outputs": [],
   "source": [
    "# Data Table \n",
    "import numpy as np                       # matrices & arrays\n",
    "import pandas as pd                      # Data Table & dataframe \n",
    "from skimpy import skim                  # skim data\n",
    "from prettytable import PrettyTable      # Create Tables\n",
    "\n",
    "# Visualization \n",
    "import seaborn as sns\n",
    "import matplotlib.pyplot as plt\n",
    "\n",
    "# Hypothesis Testing \n",
    "import scipy.stats as sps                 # statistical tests\n",
    "from scipy.stats.mstats import winsorize  # Winsorizing\n",
    "import statsmodels.api as sm              # regression\n",
    "from statsmodels.formula.api import ols   # regression model\n",
    "from scipy.stats import boxcox            # ideal way to transform skewed to normal\n",
    "\n",
    "# Machine Learning \n",
    "import sklearn as sklearn                 # scikit learn package\n",
    "from sklearn.preprocessing import PolynomialFeatures\n",
    "                                          # Polynomial Features\n",
    "from sklearn.decomposition import PCA     # PCA\n",
    "from sklearn.feature_extraction import DictVectorizer\n",
    "                                          # Categorical encoding\n",
    "from sklearn.preprocessing import OrdinalEncoder, LabelEncoder, LabelBinarizer, OneHotEncoder\n",
    "                                          # Categorical Encoding\n",
    "from sklearn.preprocessing import StandardScaler, MinMaxScaler, RobustScaler\n",
    "                                          # Continuous Scalers \n",
    "from sklearn.model_selection import train_test_split\n",
    "                                          # split train & test set\n",
    "from sklearn.model_selection import KFold, cross_val_predict\n",
    "                                          # Cross-validation \n",
    "from sklearn.pipeline import Pipeline\n",
    "                                          # Pipeline the cross validation\n",
    "\n",
    "from sklearn.model_selection import GridSearchCV\n",
    "                                          # Grid Search CV \n",
    "from sklearn.metrics import r2_score, mean_squared_error\n",
    "                                          # Model Evaluation Metrics\n",
    "\n",
    "\n",
    "# Options\n",
    "import warnings\n",
    "warnings.filterwarnings('ignore')         # suppress all warnings; switch 'ignore' to 'default' to to re-enable it again\n",
    "pd.set_option('display.max_rows', 500)    # display max rows \n",
    "pd.set_option('display.max_columns', 500) #         max cols\n",
    "pd.set_option('display.width', 1000)      #         max width\n",
    "pd.set_option('display.precision', 2)     #         round 2 places after decimal "
   ]
  },
  {
   "cell_type": "markdown",
   "id": "4b1b144c-a86d-4b82-b15e-139d454d88fd",
   "metadata": {},
   "source": [
    "### Functions"
   ]
  },
  {
   "cell_type": "markdown",
   "id": "4faa7d91-8b25-4bb0-9f0e-575ad002df31",
   "metadata": {},
   "source": [
    "##### nadup()"
   ]
  },
  {
   "cell_type": "code",
   "execution_count": null,
   "id": "39a34c0f-23fb-44ef-8057-29bb89729160",
   "metadata": {},
   "outputs": [],
   "source": [
    "# Functions for calculation\n",
    "def nadup(df):\n",
    "    arr, arr2, arr3, arr4 = [], [], [], []\n",
    "    for col in df.columns:\n",
    "      temp = [str(x) for x in df[col].unique()]    # convert cols to str\n",
    "      temp2 = df[col].isna().sum()                 # calculate sum of NaN    \n",
    "      temp3 = (df[col].isna().sum())/len(df)*100   # calculate % of NaN\n",
    "      arr.append(', '.join(temp))                   \n",
    "      arr2.append(len(temp))\n",
    "      arr3.append(temp2)\n",
    "      arr4.append(round(temp3,1))\n",
    "    print('The dataframe has a total of %i rows & %i columns. A total of %i NA values were detected.\\n' %(df.shape[0],df.shape[1],df.isnull().any(axis=1).sum()),\n",
    "          ' This dataframe has',df.duplicated().sum(),'duplicated rows')\n",
    "    summary = pd.DataFrame({\n",
    "        'Variables': df.columns,\n",
    "        'Type':df.dtypes.to_list(),\n",
    "        'Unique Values':arr,\n",
    "        'Sum of Unique Values': arr2,\n",
    "        'Sum of NaN Values': arr3,\n",
    "        '% of NaN': arr4}).sort_values('% of NaN', ascending = False)\n",
    "    display(summary)"
   ]
  },
  {
   "cell_type": "markdown",
   "id": "58ff6858-3d78-4160-a895-6e6defe0156e",
   "metadata": {},
   "source": [
    "### About the dataset\n",
    "1. Where is it from? (i.e., who was the author, where did I get it)\n",
    "2. What is it about? "
   ]
  },
  {
   "cell_type": "code",
   "execution_count": null,
   "id": "3bbe2518-dcd4-4392-93d0-e10e8d062f77",
   "metadata": {
    "tags": []
   },
   "outputs": [],
   "source": [
    "# importing\n",
    "sales = pd.read_csv('sales.csv')\n",
    "\n",
    "# rename \n",
    "sales.columns = ['name','platform','release_year',\n",
    "                 'genre','publisher','na_sales','eu_sales',\n",
    "                 'jp_sales','other_sales','global_sales',\n",
    "                 'critic_scores','critic_count','user_scores',\n",
    "                 'user_count','developer','rating']\n",
    "\n",
    "# Information\n",
    "sales.info()"
   ]
  },
  {
   "cell_type": "markdown",
   "id": "5e6d8c91-9714-47a0-9f94-7af2d98f8b50",
   "metadata": {},
   "source": [
    "### Goals\n",
    "What are the goals I would like to accomplish with this dataset\n",
    "- Descriptive. What have we done in the past? \n",
    "- Predictive. Where are we going and when?\n",
    "- Prescriptive. How should we take action? \n",
    "- Diagnostic. Why have we seen past results? "
   ]
  },
  {
   "cell_type": "markdown",
   "id": "121a4245-e415-4792-82a3-e75d0fd0f425",
   "metadata": {
    "tags": []
   },
   "source": [
    "# Methods"
   ]
  },
  {
   "cell_type": "markdown",
   "id": "b5bfa803-e118-43c7-9104-3256a9902400",
   "metadata": {},
   "source": [
    "### Variables of interest\n",
    "|Variables|Class|Type|Definition|Interpretation|\n",
    "|---------|-----|----|----------|--------------|\n",
    "|GDP|continuous|outcome|The amount of money a country make in a year, in US dollars|Higher GDP = Richer country|\n",
    "|Age|continuous|predictor|a person age, in year|higher age = older|\n",
    "|Sex|categorical|predictor|a person's biological sex|M = male, F = female|"
   ]
  },
  {
   "cell_type": "markdown",
   "id": "e21fb0d6-6fdc-4eed-adee-927db5d17371",
   "metadata": {},
   "source": [
    "### Analysis Plan\n",
    "1. How data will be processed and clean (i.e., duplicates, NA values, outliers) \n",
    "2. Exploratory Data Analysis\n",
    "    - What are some relationship between predictors and outcomes?\n",
    "    - Do we need a pairplot? \n",
    "    - What are the correlation between all predictors and outcomes?\n",
    "    - If any, what are some hypotheses testing we should use? \n",
    "3. Pre-processing steps\n",
    "    - Do we need to perform feature engineering? If so, why?\n",
    "    - Will this be a classification or regression model? \n",
    "4. Data split \n",
    "    - How many percentage will be test data? \n",
    "    - Do we perform cross-validation? \n",
    "5. Building the model\n",
    "    - What models will we used? (linear regression, ridge, lasso, etc.)\n",
    "    - What evaluation metric will we used? (R2, confusion matrix, etc.)\n",
    "    - Comparison table\n",
    "    - Plot of all prediction \n",
    "6. Conclusion."
   ]
  },
  {
   "cell_type": "markdown",
   "id": "821f9230-a151-43be-a615-24c027d8341f",
   "metadata": {},
   "source": []
  },
  {
   "cell_type": "code",
   "execution_count": null,
   "id": "ccd7e995-2b20-450f-8c1e-167a1e22511a",
   "metadata": {},
   "outputs": [],
   "source": []
  },
  {
   "cell_type": "code",
   "execution_count": null,
   "id": "10ab4e80-5fbf-4acc-a5f7-8e27cc09cee0",
   "metadata": {},
   "outputs": [],
   "source": []
  },
  {
   "cell_type": "markdown",
   "id": "87400e27-f884-4d1a-8517-2b60c1906d20",
   "metadata": {},
   "source": [
    "# DATA CLEANING "
   ]
  },
  {
   "cell_type": "markdown",
   "id": "b133314c-96e5-44d4-a502-80216db87ef3",
   "metadata": {},
   "source": [
    "### Duplicates"
   ]
  },
  {
   "cell_type": "code",
   "execution_count": null,
   "id": "d399f4e6-e08b-4b85-b0bf-adadf8ccfe1a",
   "metadata": {
    "tags": []
   },
   "outputs": [],
   "source": [
    "nadup(sales)"
   ]
  },
  {
   "cell_type": "markdown",
   "id": "91824335-feb9-4e13-97a9-b958294736a8",
   "metadata": {},
   "source": [
    "### NA values"
   ]
  },
  {
   "cell_type": "code",
   "execution_count": null,
   "id": "65472e85-a4ad-4853-80cd-e37bbb07d776",
   "metadata": {},
   "outputs": [],
   "source": []
  },
  {
   "cell_type": "markdown",
   "id": "d194e0ad-52bf-4204-9a51-4cb09ff147ea",
   "metadata": {},
   "source": [
    "# Exploratory Data Analysis (EDA)"
   ]
  },
  {
   "cell_type": "markdown",
   "id": "608c4b8f-fdca-404a-a853-6b7ffcaba736",
   "metadata": {},
   "source": [
    "### Pairplot "
   ]
  },
  {
   "cell_type": "code",
   "execution_count": null,
   "id": "e4c9414e-a82c-477d-a46a-076c96864b5c",
   "metadata": {},
   "outputs": [],
   "source": []
  },
  {
   "cell_type": "markdown",
   "id": "c86371a1-5df2-4b35-a42e-9cffde8e4bfa",
   "metadata": {},
   "source": [
    "# Pre-processing "
   ]
  },
  {
   "cell_type": "markdown",
   "id": "b23ecd43-ef8c-4e79-a708-eada90233533",
   "metadata": {},
   "source": [
    "### Standardization "
   ]
  },
  {
   "cell_type": "code",
   "execution_count": null,
   "id": "72c5fa6c-f401-4a6c-9eb7-8d7ab13b07ed",
   "metadata": {},
   "outputs": [],
   "source": []
  },
  {
   "cell_type": "markdown",
   "id": "ae35ec52-349b-4d08-b03f-cdd758a52580",
   "metadata": {},
   "source": [
    "### Outliers"
   ]
  },
  {
   "cell_type": "code",
   "execution_count": null,
   "id": "476b95b3-66ba-4533-885a-ac5275b81c83",
   "metadata": {},
   "outputs": [],
   "source": []
  },
  {
   "cell_type": "markdown",
   "id": "7610518b-0c8b-400d-b0f2-ceae15d8f874",
   "metadata": {},
   "source": [
    "### Features Engineering "
   ]
  },
  {
   "cell_type": "code",
   "execution_count": null,
   "id": "5ad960a6-a9d0-4a8b-81cf-f0eb3bc82dc9",
   "metadata": {},
   "outputs": [],
   "source": []
  },
  {
   "cell_type": "markdown",
   "id": "cc5033fc-58d1-415d-b445-706cd1d6a6d0",
   "metadata": {},
   "source": [
    "# Data Splits"
   ]
  },
  {
   "cell_type": "markdown",
   "id": "e081d153-8ea1-44fe-8c91-ce1dbf1cb64f",
   "metadata": {},
   "source": [
    "### Train-Test Split"
   ]
  },
  {
   "cell_type": "code",
   "execution_count": null,
   "id": "82ea3dde-d3c8-49d8-8510-5292b00eb904",
   "metadata": {},
   "outputs": [],
   "source": []
  },
  {
   "cell_type": "markdown",
   "id": "2c21f07d-5d9d-4015-b7fb-92b07c8a555a",
   "metadata": {},
   "source": [
    "### Cross-validation "
   ]
  },
  {
   "cell_type": "code",
   "execution_count": null,
   "id": "a2206519-3485-41a5-9146-7f943ab96c8b",
   "metadata": {},
   "outputs": [],
   "source": []
  },
  {
   "cell_type": "markdown",
   "id": "308469e7-15f6-46dd-85b5-b1aa9e77c585",
   "metadata": {},
   "source": [
    "# Supervised ML Model - Regression"
   ]
  },
  {
   "cell_type": "markdown",
   "id": "3773264e-fe61-42b5-81c1-32bf8ebfd7cb",
   "metadata": {},
   "source": [
    "### Model 1"
   ]
  },
  {
   "cell_type": "code",
   "execution_count": null,
   "id": "88f05e37-53c8-4e19-914b-42e920f46048",
   "metadata": {},
   "outputs": [],
   "source": []
  },
  {
   "cell_type": "markdown",
   "id": "1be59234-b3f6-45d2-8eeb-5a1f31bdf587",
   "metadata": {},
   "source": [
    "### Model 2"
   ]
  },
  {
   "cell_type": "code",
   "execution_count": null,
   "id": "c09d444f-671a-44cc-8be3-863109dd591e",
   "metadata": {},
   "outputs": [],
   "source": []
  },
  {
   "cell_type": "markdown",
   "id": "03f36570-c602-4996-9ea2-d187d7544d06",
   "metadata": {},
   "source": [
    "### Model 3"
   ]
  },
  {
   "cell_type": "code",
   "execution_count": null,
   "id": "d8367f49-21bd-48e4-8ef8-b135a5e264d6",
   "metadata": {},
   "outputs": [],
   "source": []
  },
  {
   "cell_type": "markdown",
   "id": "6a1715c9-7966-4b04-8eda-df30ac858274",
   "metadata": {},
   "source": [
    "### Evaluation Metric"
   ]
  },
  {
   "cell_type": "markdown",
   "id": "739835ba-607c-4563-9715-b092b70750b3",
   "metadata": {},
   "source": [
    "##### Comparison Table"
   ]
  },
  {
   "cell_type": "code",
   "execution_count": null,
   "id": "fd50d8c9-b820-4e5b-9638-72108f206d1d",
   "metadata": {},
   "outputs": [],
   "source": []
  },
  {
   "cell_type": "markdown",
   "id": "8fda2b5b-8c50-44f4-9317-6054dbdaa78d",
   "metadata": {},
   "source": [
    "##### Plot of all Prediction"
   ]
  },
  {
   "cell_type": "code",
   "execution_count": null,
   "id": "69f4643a-c3b6-4118-a1ab-494b41e69dbb",
   "metadata": {},
   "outputs": [],
   "source": []
  },
  {
   "cell_type": "markdown",
   "id": "4724c9a7-0f79-4209-8be7-096871a21d1a",
   "metadata": {},
   "source": [
    "# CONCLUSION"
   ]
  },
  {
   "cell_type": "code",
   "execution_count": null,
   "id": "f32f8658-7a59-4499-b2a0-6a1e0b73cf7e",
   "metadata": {},
   "outputs": [],
   "source": []
  },
  {
   "cell_type": "markdown",
   "id": "e76bde87-7f27-4b3a-b398-3d07b7bfb26c",
   "metadata": {},
   "source": [
    "### Minh K. Chau"
   ]
  },
  {
   "cell_type": "code",
   "execution_count": null,
   "id": "8abaa13a-c6a5-4a9c-bc4a-238f34af093b",
   "metadata": {},
   "outputs": [],
   "source": []
  }
 ],
 "metadata": {
  "kernelspec": {
   "display_name": "Python 3 (ipykernel)",
   "language": "python",
   "name": "python3"
  },
  "language_info": {
   "codemirror_mode": {
    "name": "ipython",
    "version": 3
   },
   "file_extension": ".py",
   "mimetype": "text/x-python",
   "name": "python",
   "nbconvert_exporter": "python",
   "pygments_lexer": "ipython3",
   "version": "3.11.5"
  }
 },
 "nbformat": 4,
 "nbformat_minor": 5
}
