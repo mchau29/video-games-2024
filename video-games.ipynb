{
 "cells": [
  {
   "cell_type": "markdown",
   "id": "7a4b476c-8f8e-44b1-aa57-a09b221fe361",
   "metadata": {},
   "source": [
    "# VIDEO GAMES SALES PREDICTIONS (2024)"
   ]
  },
  {
   "cell_type": "markdown",
   "id": "0703202d-9f8d-4da9-ba3d-5c0c690f6739",
   "metadata": {},
   "source": [
    "### Library"
   ]
  },
  {
   "cell_type": "code",
   "execution_count": 2,
   "id": "bd444678-51b2-4c5e-89a8-7e8364e2c2b2",
   "metadata": {
    "tags": []
   },
   "outputs": [],
   "source": [
    "# Data Table \n",
    "import numpy as np                       # matrices & arrays\n",
    "import pandas as pd                      # Data Table & dataframe \n",
    "from skimpy import skim                  # skim data\n",
    "from prettytable import PrettyTable      # Create Tables\n",
    "\n",
    "# Visualization \n",
    "import seaborn as sns\n",
    "import matplotlib.pyplot as plt\n",
    "\n",
    "# Hypothesis Testing \n",
    "import scipy.stats as sps                 # statistical tests\n",
    "from scipy.stats.mstats import winsorize  # Winsorizing\n",
    "import statsmodels.api as sm              # regression\n",
    "from statsmodels.formula.api import ols   # regression model\n",
    "from scipy.stats import boxcox            # ideal way to transform skewed to normal\n",
    "\n",
    "# Machine Learning \n",
    "import sklearn as sklearn                 # scikit learn package\n",
    "from sklearn.preprocessing import PolynomialFeatures\n",
    "                                          # Polynomial Features\n",
    "from sklearn.decomposition import PCA     # PCA\n",
    "from sklearn.feature_extraction import DictVectorizer\n",
    "                                          # Categorical encoding\n",
    "from sklearn.preprocessing import OrdinalEncoder, LabelEncoder, LabelBinarizer, OneHotEncoder\n",
    "                                          # Categorical Encoding\n",
    "from sklearn.preprocessing import StandardScaler, MinMaxScaler, RobustScaler\n",
    "                                          # Continuous Scalers \n",
    "from sklearn.model_selection import train_test_split\n",
    "                                          # split train & test set\n",
    "from sklearn.model_selection import KFold, cross_val_predict\n",
    "                                          # Cross-validation \n",
    "from sklearn.pipeline import Pipeline\n",
    "                                          # Pipeline the cross validation\n",
    "\n",
    "from sklearn.model_selection import GridSearchCV\n",
    "                                          # Grid Search CV \n",
    "from sklearn.metrics import r2_score, mean_squared_error\n",
    "                                          # Model Evaluation Metrics\n",
    "\n",
    "\n",
    "# Options\n",
    "import warnings\n",
    "warnings.filterwarnings('ignore')         # suppress all warnings; switch 'ignore' to 'default' to to re-enable it again\n",
    "pd.set_option('display.max_rows', 500)    # display max rows \n",
    "pd.set_option('display.max_columns', 500) #         max cols\n",
    "pd.set_option('display.width', 1000)      #         max width\n",
    "pd.set_option('display.precision', 2)     #         round 2 places after decimal "
   ]
  },
  {
   "cell_type": "markdown",
   "id": "58ff6858-3d78-4160-a895-6e6defe0156e",
   "metadata": {},
   "source": [
    "### About"
   ]
  },
  {
   "cell_type": "markdown",
   "id": "1523b1c2-8d14-4107-8a48-caeeb4055a41",
   "metadata": {},
   "source": [
    "### The Dataset"
   ]
  },
  {
   "cell_type": "code",
   "execution_count": 4,
   "id": "3bbe2518-dcd4-4392-93d0-e10e8d062f77",
   "metadata": {
    "tags": []
   },
   "outputs": [],
   "source": [
    "# importing\n",
    "sales = pd.read_csv('sales.csv')\n",
    "scores = pd.read_csv('scores.csv')"
   ]
  },
  {
   "cell_type": "code",
   "execution_count": 5,
   "id": "436e5056-1c9c-45f3-b8b1-8e148a609cb4",
   "metadata": {
    "tags": []
   },
   "outputs": [
    {
     "name": "stdout",
     "output_type": "stream",
     "text": [
      "<class 'pandas.core.frame.DataFrame'>\n",
      "RangeIndex: 16719 entries, 0 to 16718\n",
      "Data columns (total 16 columns):\n",
      " #   Column           Non-Null Count  Dtype  \n",
      "---  ------           --------------  -----  \n",
      " 0   Name             16717 non-null  object \n",
      " 1   Platform         16719 non-null  object \n",
      " 2   Year_of_Release  16450 non-null  float64\n",
      " 3   Genre            16717 non-null  object \n",
      " 4   Publisher        16665 non-null  object \n",
      " 5   NA_Sales         16719 non-null  float64\n",
      " 6   EU_Sales         16719 non-null  float64\n",
      " 7   JP_Sales         16719 non-null  float64\n",
      " 8   Other_Sales      16719 non-null  float64\n",
      " 9   Global_Sales     16719 non-null  float64\n",
      " 10  Critic_Score     8137 non-null   float64\n",
      " 11  Critic_Count     8137 non-null   float64\n",
      " 12  User_Score       7590 non-null   float64\n",
      " 13  User_Count       7590 non-null   float64\n",
      " 14  Developer        10096 non-null  object \n",
      " 15  Rating           9950 non-null   object \n",
      "dtypes: float64(10), object(6)\n",
      "memory usage: 2.0+ MB\n"
     ]
    }
   ],
   "source": [
    "sales.info()"
   ]
  },
  {
   "cell_type": "code",
   "execution_count": 6,
   "id": "514790e4-b375-458c-b585-90737cfbd68e",
   "metadata": {
    "tags": []
   },
   "outputs": [
    {
     "name": "stdout",
     "output_type": "stream",
     "text": [
      "<class 'pandas.core.frame.DataFrame'>\n",
      "RangeIndex: 17944 entries, 0 to 17943\n",
      "Data columns (total 10 columns):\n",
      " #   Column      Non-Null Count  Dtype \n",
      "---  ------      --------------  ----- \n",
      " 0   name        17944 non-null  object\n",
      " 1   platform    17944 non-null  object\n",
      " 2   r-date      17944 non-null  object\n",
      " 3   score       17944 non-null  int64 \n",
      " 4   user score  17944 non-null  object\n",
      " 5   developer   17944 non-null  object\n",
      " 6   genre       17944 non-null  object\n",
      " 7   players     17922 non-null  object\n",
      " 8   critics     17944 non-null  int64 \n",
      " 9   users       17944 non-null  int64 \n",
      "dtypes: int64(3), object(7)\n",
      "memory usage: 1.4+ MB\n"
     ]
    }
   ],
   "source": [
    "scores.info()"
   ]
  },
  {
   "cell_type": "code",
   "execution_count": 7,
   "id": "a054f46f-5db5-46c5-8464-3ce29e5ccb72",
   "metadata": {
    "tags": []
   },
   "outputs": [],
   "source": [
    "# scores has more rows (let's slap sales data into scores)"
   ]
  },
  {
   "cell_type": "code",
   "execution_count": null,
   "id": "f161e090-6bb4-4852-908c-c6442593ed30",
   "metadata": {},
   "outputs": [],
   "source": [
    "# step 1. renaming \n",
    "scores.columns = ['name','platform','released_year',"
   ]
  }
 ],
 "metadata": {
  "kernelspec": {
   "display_name": "Python 3 (ipykernel)",
   "language": "python",
   "name": "python3"
  },
  "language_info": {
   "codemirror_mode": {
    "name": "ipython",
    "version": 3
   },
   "file_extension": ".py",
   "mimetype": "text/x-python",
   "name": "python",
   "nbconvert_exporter": "python",
   "pygments_lexer": "ipython3",
   "version": "3.11.5"
  }
 },
 "nbformat": 4,
 "nbformat_minor": 5
}
