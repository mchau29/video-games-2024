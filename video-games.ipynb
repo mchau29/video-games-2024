{
 "cells": [
  {
   "cell_type": "markdown",
   "id": "7a4b476c-8f8e-44b1-aa57-a09b221fe361",
   "metadata": {},
   "source": [
    "# VIDEO GAMES SALES PREDICTIONS (2024)"
   ]
  },
  {
   "cell_type": "markdown",
   "id": "0703202d-9f8d-4da9-ba3d-5c0c690f6739",
   "metadata": {},
   "source": [
    "### Library"
   ]
  },
  {
   "cell_type": "code",
   "execution_count": 1,
   "id": "bd444678-51b2-4c5e-89a8-7e8364e2c2b2",
   "metadata": {
    "tags": []
   },
   "outputs": [],
   "source": [
    "# Data Table \n",
    "import numpy as np                       # matrices & arrays\n",
    "import pandas as pd                      # Data Table & dataframe \n",
    "from skimpy import skim                  # skim data\n",
    "from prettytable import PrettyTable      # Create Tables\n",
    "\n",
    "# Visualization \n",
    "import seaborn as sns\n",
    "import matplotlib.pyplot as plt\n",
    "\n",
    "# Hypothesis Testing \n",
    "import scipy.stats as sps                 # statistical tests\n",
    "from scipy.stats.mstats import winsorize  # Winsorizing\n",
    "import statsmodels.api as sm              # regression\n",
    "from statsmodels.formula.api import ols   # regression model\n",
    "from scipy.stats import boxcox            # ideal way to transform skewed to normal\n",
    "\n",
    "# Machine Learning \n",
    "import sklearn as sklearn                 # scikit learn package\n",
    "from sklearn.preprocessing import PolynomialFeatures\n",
    "                                          # Polynomial Features\n",
    "from sklearn.decomposition import PCA     # PCA\n",
    "from sklearn.feature_extraction import DictVectorizer\n",
    "                                          # Categorical encoding\n",
    "from sklearn.preprocessing import OrdinalEncoder, LabelEncoder, LabelBinarizer, OneHotEncoder\n",
    "                                          # Categorical Encoding\n",
    "from sklearn.preprocessing import StandardScaler, MinMaxScaler, RobustScaler\n",
    "                                          # Continuous Scalers \n",
    "from sklearn.model_selection import train_test_split\n",
    "                                          # split train & test set\n",
    "from sklearn.model_selection import KFold, cross_val_predict\n",
    "                                          # Cross-validation \n",
    "from sklearn.pipeline import Pipeline\n",
    "                                          # Pipeline the cross validation\n",
    "\n",
    "from sklearn.model_selection import GridSearchCV\n",
    "                                          # Grid Search CV \n",
    "from sklearn.metrics import r2_score, mean_squared_error\n",
    "                                          # Model Evaluation Metrics\n",
    "\n",
    "# Options\n",
    "import warnings\n",
    "warnings.filterwarnings('ignore')         # suppress all warnings; switch 'ignore' to 'default' to to re-enable it again\n",
    "pd.set_option('display.max_rows', 500)    # display max rows \n",
    "pd.set_option('display.max_columns', 500) #         max cols\n",
    "pd.set_option('display.width', 1000)      #         max width\n",
    "pd.set_option('display.precision', 2)     #         round 2 places after decimal "
   ]
  },
  {
   "cell_type": "markdown",
   "id": "4b1b144c-a86d-4b82-b15e-139d454d88fd",
   "metadata": {},
   "source": [
    "### Functions"
   ]
  },
  {
   "cell_type": "markdown",
   "id": "4faa7d91-8b25-4bb0-9f0e-575ad002df31",
   "metadata": {},
   "source": [
    "#### nadup()\n",
    "This function will return a summary table detailing the following information\n",
    "1. Variables Names \n",
    "2. The type of the variable. \n",
    "3. All unique values. \n",
    "4. Number of unique values.  \n",
    "5. Number of NaN values. \n",
    "6. % of unique values per variable. "
   ]
  },
  {
   "cell_type": "code",
   "execution_count": 2,
   "id": "39a34c0f-23fb-44ef-8057-29bb89729160",
   "metadata": {},
   "outputs": [],
   "source": [
    "# Functions for calculation\n",
    "def nadup(df):\n",
    "    arr, arr2, arr3, arr4 = [], [], [], []\n",
    "    for col in df.columns:\n",
    "      temp = [str(x) for x in df[col].unique()]    # convert cols to str\n",
    "      temp2 = df[col].isna().sum()                 # calculate sum of NaN    \n",
    "      temp3 = (df[col].isna().sum())/len(df)*100   # calculate % of NaN\n",
    "      arr.append(', '.join(temp))                   \n",
    "      arr2.append(len(temp))\n",
    "      arr3.append(temp2)\n",
    "      arr4.append(round(temp3,1))\n",
    "    print('The dataframe has a total of %i rows & %i columns. A total of %i NA values were detected.\\n' %(df.shape[0],df.shape[1],df.isnull().any(axis=1).sum()),\n",
    "          ' This dataframe has',df.duplicated().sum(),'duplicated rows')\n",
    "    summary = pd.DataFrame({\n",
    "        'Variables': df.columns,\n",
    "        'Type':df.dtypes.to_list(),\n",
    "        'Unique Values':arr,\n",
    "        'Sum of Unique Values': arr2,\n",
    "        'Sum of NaN Values': arr3,\n",
    "        '% of NaN': arr4}).sort_values('% of NaN', ascending = False)\n",
    "    display(summary)"
   ]
  },
  {
   "cell_type": "markdown",
   "id": "52c7b46a-621a-4654-ab65-8c168b9f7d62",
   "metadata": {},
   "source": [
    "#### nacheck(var)\n",
    "This function is used to see the distribution of scores and detect the presence of any outliers. This process will be used to determine the appropriate methods to fill in NA values. "
   ]
  },
  {
   "cell_type": "code",
   "execution_count": 3,
   "id": "f76633f6-1964-4482-85b2-61205f3684ee",
   "metadata": {},
   "outputs": [],
   "source": [
    "# Check the influence of NA values \n",
    "def nacheck(var):\n",
    "    '''\n",
    "    Descriptive Statistics Table \n",
    "    ''' \n",
    "    mode = sps.mode(var)\n",
    "    n = len(var)\n",
    "    from prettytable import PrettyTable \n",
    "    summary = PrettyTable([\"Descriptive Statistics\", \"\"]) \n",
    "    summary.add_row([\"Sample Size\", n])\n",
    "    summary.add_row([\"Sample Mean\", round(var.mean(),3)])\n",
    "    summary.add_row([\"Sample Median\", round(var.median(),3)])\n",
    "    summary.add_row([\"Mode\", mode.mode])\n",
    "    summary.add_row([\"Max\", var.max()])\n",
    "    summary.add_row([\"Min\", var.min()])\n",
    "    summary.add_row([\"Range\", round(var.max() - var.min(),3)])\n",
    "    summary.add_row([\"Standard Deviation\", round(var.std(),3)])\n",
    "    summary.add_row([\"Variance\", round(var.var(),3)])\n",
    "    summary.add_row(['NA values', var.isna().sum()])\n",
    "    print(summary)\n",
    "    '''\n",
    "    Visualization\n",
    "    '''\n",
    "    fig, ax = plt.subplots(1,2)                          # Making (row, col) of plots  \n",
    "    fig.set_figheight(3)                                 # set height \n",
    "    fig.set_figwidth(5)                                 # set width\n",
    "    sns.set(style = 'white')                         # Style (style, palette argument)\n",
    "    sns.kdeplot(var, color = 'red',\n",
    "                alpha = .1, fill = 'true',\n",
    "                ax = ax[0])                              # Distribution plot\n",
    "    sns.boxplot(y = var, ax= ax[1])                      # Boxplot \n",
    "    fig.tight_layout()                                   # Tight layout\n",
    "    plt.show()                                           # show plots"
   ]
  },
  {
   "cell_type": "markdown",
   "id": "6ecf8c11-f598-492e-aa12-838541cc00e8",
   "metadata": {},
   "source": [
    "#### dsit_by_group()\n",
    "This function can be used to gauge the distribution of scores by groups. This function will return a summary table contains the mean, median, standard deviation, counts, NA counts, and percentage of NA values by group. A multi-level kde-plots is also provided to illustrate the distribution of scores by groups. "
   ]
  },
  {
   "cell_type": "code",
   "execution_count": 4,
   "id": "bca495de-20e8-42a1-87b1-db543554d1a3",
   "metadata": {},
   "outputs": [],
   "source": [
    "def dist_by_group(df,var,group,wrap_by):\n",
    "    '''Summary Table'''\n",
    "    missing = df[var].isnull().sum()\n",
    "    m = df.groupby(group).agg({var: ['count','mean','median','std']}).reset_index()   # aggregate functions\n",
    "    m.columns = m.columns.droplevel(0)\n",
    "    m.columns = [group,'count','mean','median','std']\n",
    "    n = df[var].isnull().groupby(df[group]).sum()     # Count Number of NA values\n",
    "    o = n.to_frame().reset_index()                    # turn it into a df\n",
    "    o.columns = [group,'NA count']\n",
    "    u = m.merge(o, on = group, how = 'left')          # merge both df\n",
    "    u['percent NA'] = round(u['NA count']/missing,2)  # percentage of all missing values \n",
    "    print('There is a total of %i NA values in %s' %(missing,var))\n",
    "    display(u)\n",
    "    '''Visualization'''\n",
    "    # create a grid \n",
    "    g = sns.FacetGrid(df, col= group, hue= group, col_wrap =wrap_by)\n",
    "    # draw density plots\n",
    "    g = g.map(sns.kdeplot, var, cut=0, fill=True, common_norm=False, alpha=.5, legend=False)\n",
    "    g = g.set_titles(\"{col_name}\")   # set title\n",
    "    # show the graph\n",
    "    plt.show()"
   ]
  },
  {
   "cell_type": "markdown",
   "id": "58ff6858-3d78-4160-a895-6e6defe0156e",
   "metadata": {},
   "source": [
    "### About the dataset\n",
    "This dataset was created by user `SID_TWR` on [Kaggle](https://www.kaggle.com/), a Machine Learning and Data Science Community in 2019. As of February 2nd, 2024, the dataset has 243,000 views and 46,300 downloads. \n",
    "\n",
    "According to the owner (i.e., user `SID_TWR`), this dataset was inspired by Gregory Smith's webscrape of [VGChartz Video Games Sales dataset](https://www.kaggle.com/datasets/mathurtanvi/video-game-sales-dataset). This dataset contains the name, platform, year of release, genre, publisher, sales of video games in North America, Europe, Japan, Other countries, and total global sales. The dataset I use for this project extends the variables, in which the owner performed webscraping on [Metacritic](https://www.metacritic.com/) for the following variables: critic scores, critic count, user score, user count, developer, and ESRB ratings of each video games, along with the video game sales variable mentioned above. \n",
    "\n",
    "This dataset can be accessed and downloaded here: [Video Games Sales Dataset,\n",
    "Video Games Sales & Game Ratings Data Scraped from VzCharts](https://www.kaggle.com/datasets/sidtwr/videogames-sales-dataset/data?select=Video_Games_Sales_as_at_22_Dec_2016.csv)"
   ]
  },
  {
   "cell_type": "code",
   "execution_count": 5,
   "id": "3bbe2518-dcd4-4392-93d0-e10e8d062f77",
   "metadata": {
    "tags": []
   },
   "outputs": [
    {
     "name": "stdout",
     "output_type": "stream",
     "text": [
      "<class 'pandas.core.frame.DataFrame'>\n",
      "RangeIndex: 16719 entries, 0 to 16718\n",
      "Data columns (total 16 columns):\n",
      " #   Column         Non-Null Count  Dtype  \n",
      "---  ------         --------------  -----  \n",
      " 0   name           16717 non-null  object \n",
      " 1   platform       16719 non-null  object \n",
      " 2   release_year   16450 non-null  float64\n",
      " 3   genre          16717 non-null  object \n",
      " 4   publisher      16665 non-null  object \n",
      " 5   na_sales       16719 non-null  float64\n",
      " 6   eu_sales       16719 non-null  float64\n",
      " 7   jp_sales       16719 non-null  float64\n",
      " 8   other_sales    16719 non-null  float64\n",
      " 9   global_sales   16719 non-null  float64\n",
      " 10  critic_scores  8137 non-null   float64\n",
      " 11  n_critic       8137 non-null   float64\n",
      " 12  user_scores    7590 non-null   float64\n",
      " 13  n_user         7590 non-null   float64\n",
      " 14  developer      10096 non-null  object \n",
      " 15  esrb           9950 non-null   object \n",
      "dtypes: float64(10), object(6)\n",
      "memory usage: 2.0+ MB\n"
     ]
    }
   ],
   "source": [
    "# importing\n",
    "games = pd.read_csv('sales.csv')\n",
    "\n",
    "# rename \n",
    "games.columns = ['name','platform','release_year',\n",
    "                 'genre','publisher','na_sales','eu_sales',\n",
    "                 'jp_sales','other_sales','global_sales',\n",
    "                 'critic_scores','n_critic','user_scores',\n",
    "                 'n_user','developer','esrb']\n",
    "\n",
    "# Information\n",
    "games.info()"
   ]
  },
  {
   "cell_type": "code",
   "execution_count": 6,
   "id": "8c7f3c4b-4b5a-4345-8f0b-ac2f88817a30",
   "metadata": {},
   "outputs": [
    {
     "name": "stdout",
     "output_type": "stream",
     "text": [
      "<class 'pandas.core.frame.DataFrame'>\n",
      "RangeIndex: 16719 entries, 0 to 16718\n",
      "Data columns (total 12 columns):\n",
      " #   Column         Non-Null Count  Dtype  \n",
      "---  ------         --------------  -----  \n",
      " 0   name           16717 non-null  object \n",
      " 1   platform       16719 non-null  object \n",
      " 2   release_year   16450 non-null  float64\n",
      " 3   genre          16717 non-null  object \n",
      " 4   publisher      16665 non-null  object \n",
      " 5   global_sales   16719 non-null  float64\n",
      " 6   critic_scores  8137 non-null   float64\n",
      " 7   n_critic       8137 non-null   float64\n",
      " 8   user_scores    7590 non-null   float64\n",
      " 9   n_user         7590 non-null   float64\n",
      " 10  developer      10096 non-null  object \n",
      " 11  esrb           9950 non-null   object \n",
      "dtypes: float64(6), object(6)\n",
      "memory usage: 1.5+ MB\n"
     ]
    }
   ],
   "source": [
    "# Remove unnecessary columns \n",
    "games = games.drop(columns=['na_sales', 'eu_sales','jp_sales','other_sales'])\n",
    "\n",
    "# info again\n",
    "games.info()"
   ]
  },
  {
   "cell_type": "markdown",
   "id": "5e6d8c91-9714-47a0-9f94-7af2d98f8b50",
   "metadata": {},
   "source": [
    "### Goals\n",
    "For this project, I will try to predict the global sales of video games using multiple predictors. This project will place a heavier emphasis on prediction and less on explanation. \n",
    "1. **Descriptive.** \n",
    "- Visualize some of the top 10 or top 25 video games, genres, or publishers with the highest sales. \n",
    "- Identify the association between global sales and various predictors. \n",
    "\n",
    "2. **Predictive.** \n",
    "- Construct two algorithms to predict global sales, one with features engineering and one without feature engineering, using various predictors. \n",
    "- Utilize different metrics to identify the best algorithm. "
   ]
  },
  {
   "cell_type": "markdown",
   "id": "bcd35a2b-d035-4a90-85f9-1430fe24bce1",
   "metadata": {},
   "source": [
    "### Questions \n",
    "##### Descriptive questions. \n",
    "1. What are the top 25 games that achieve the highest sales? \n",
    "2. Does critic and users have different opinion when rating a video game? \n",
    "3. What are the top 10 most successful publishers? \n",
    "4. What video game genres have the highest global sales? \n",
    "5. Does video game get better over the year? \n",
    "6. What are the association between global sales of video games and each predictors? \n",
    "\n",
    "##### Predictive Questions. \n",
    "1. ***Can we predict global sales of video games from the following predictors:***\n",
    "2. ***Can we predict global sales of video games with features engineering?***"
   ]
  },
  {
   "cell_type": "markdown",
   "id": "121a4245-e415-4792-82a3-e75d0fd0f425",
   "metadata": {
    "tags": []
   },
   "source": [
    "# METHODS"
   ]
  },
  {
   "cell_type": "markdown",
   "id": "e21fb0d6-6fdc-4eed-adee-927db5d17371",
   "metadata": {},
   "source": [
    "### Analysis Plan\n",
    "1. **Exploratory Data Analysis (EDA).** Multiple EDA will be performed to answer the questions established above. \n",
    "    - Q1. A table of top 25 video games with highest sales of all times.\n",
    "    - Q2. A t-test will be conducted to compare rating scores between critics and users. A bar graph will be provided to visualize this comparison. \n",
    "    - Q3. A bar graph illustrating the top 10 publishers with the highest global sales. \n",
    "    - Q4. A bar graph illustrating the top 10 genres with the highest global sales. \n",
    "    - Q5. A line chart, with x = year, y = scores, but with two group: critic vs. user rating.\n",
    "    - Q6. Using a correlation plot to plot all predictors vs. global sales, and only include those with correlation greater than .50\n",
    "2. **Data Cleaning.** How data will be processed and clean (i.e., duplicates, NA values, outliers) \n",
    "- `duplicates`. All duplicates rows will be removed. \n",
    "- `NA values.` \n",
    "    1. For each variable with NA values, a separate columns will be created with binary variable 0 & 1, with 1 = data exists and 0 = data not exist [NA] (e.g., a `n_critic` column will have `n_critic_exist`). \n",
    "    2. Estimation. Multiple imputation will be used to provide an estimation of all missing values in the dataset. \n",
    "3. **Pre-processing**\n",
    "    - *Variable Transformation.* `years_since`. Taking the earliest released game at zero, calculate other game released year from then. \n",
    "    - *Features Engineering.* It is likely that the sales of video games can be predicted by an interaction of all predictors. `standard scaler`, `One-hot encoding` & `PolynomialFeatures` will be used to convert categorical features into continuous ones and create an interaction among them.\n",
    "    - *Outliers*. Outliers will be treated using the IQR methods.  \n",
    "4. **Train-Test Set.**\n",
    "    - Test set: 30%\n",
    "    - Train Set: 70%\n",
    "5. **Building the model.**\n",
    "    - Linear Regression and Ridge Regression will be used. \n",
    "    - Cross validation will be performed. \n",
    "    - Evaluation Metrics: R2 Scores & root Mean Squared score will be used\n",
    "    - A Comparison table and a Plot of all prediction will be generated to compare the models. \n",
    "6. **Conclusion.**"
   ]
  },
  {
   "cell_type": "markdown",
   "id": "b5bfa803-e118-43c7-9104-3256a9902400",
   "metadata": {},
   "source": [
    "### Variables \n",
    "| |Variables|Class|Type|Definition, Unit, Scale|Interpretation|\n",
    "|-|---------|-----|----|----------|--------------|\n",
    "|1|global_sales|Continuous|outcome|The total number of sales of a video games in Europe, North America, Japan, and other countries (in millions of copies)|Higher values = greater sales|\n",
    "|2|platform|Categorical|predictor|The platform to run the video games (e.g., ps3, xbox, nintendo)||\n",
    "|3|release_year|Continuous|predictor|The year a video game released|Higher Year = More Recent|\n",
    "|4|genre|categorical|predictor|The genre of the video games (e.g., Role-playing, shooter, simulation)||\n",
    "|5|publisher|NA|predictor|A company that is responsible for the distributions and sales of the video games that were developed either internally or externally||\n",
    "|6|developer|NA|predictor|The company that developed (i.e., created) the video games, it can be the same or different from publisher||\n",
    "|7|critic_scores|continuous|predictor|The average scores of all ratings by critics on the Metacritics Website. They represents professional opinions|Higher scores = higher rating video games, in critics' opinion|\n",
    "|8|n_critic|continuous|predictor|The number of critics that rate a particular video games on Metacritics Website|Higher scores = higher number of critics rating a video games|\n",
    "|9|user_scores|continuous|predictor|The average scores of all ratings by users on the Metacritics Website. They do not necessarily represent professional opinions|Higher scores = higher rating video games, in users' experience|\n",
    "|10|n_user|continuous|predictor|The number of users that rate a particular video games on Metacritics Website|Higher scores = how popular a video game is among the video games community|\n",
    "|11|esrb|categorical|predictor|Entertainment Software Ratings Board (ESRB). They provide information about what's in a game or app so parents and consumers can make informed choices about which games are right for their family||"
   ]
  },
  {
   "cell_type": "markdown",
   "id": "b4184c36-2482-4551-9585-07d687905463",
   "metadata": {},
   "source": [
    "# EXPLORATORY DATA ANALYSIS (EDA)"
   ]
  },
  {
   "cell_type": "markdown",
   "id": "99e0862f-c359-4106-946d-0f2a1eda9ee2",
   "metadata": {},
   "source": [
    "### 1. What are the top 10 games that achieve the highest sales? "
   ]
  },
  {
   "cell_type": "code",
   "execution_count": 37,
   "id": "bd0fd3a0-69e8-478f-a1f9-a2610681734f",
   "metadata": {
    "tags": []
   },
   "outputs": [
    {
     "data": {
      "text/html": [
       "<div>\n",
       "<style scoped>\n",
       "    .dataframe tbody tr th:only-of-type {\n",
       "        vertical-align: middle;\n",
       "    }\n",
       "\n",
       "    .dataframe tbody tr th {\n",
       "        vertical-align: top;\n",
       "    }\n",
       "\n",
       "    .dataframe thead th {\n",
       "        text-align: right;\n",
       "    }\n",
       "</style>\n",
       "<table border=\"1\" class=\"dataframe\">\n",
       "  <thead>\n",
       "    <tr style=\"text-align: right;\">\n",
       "      <th></th>\n",
       "      <th>name</th>\n",
       "      <th>platform</th>\n",
       "      <th>global_sales</th>\n",
       "    </tr>\n",
       "  </thead>\n",
       "  <tbody>\n",
       "    <tr>\n",
       "      <th>0</th>\n",
       "      <td>Wii Sports</td>\n",
       "      <td>Wii</td>\n",
       "      <td>82.53</td>\n",
       "    </tr>\n",
       "    <tr>\n",
       "      <th>1</th>\n",
       "      <td>Super Mario Bros.</td>\n",
       "      <td>NES</td>\n",
       "      <td>40.24</td>\n",
       "    </tr>\n",
       "    <tr>\n",
       "      <th>2</th>\n",
       "      <td>Mario Kart Wii</td>\n",
       "      <td>Wii</td>\n",
       "      <td>35.52</td>\n",
       "    </tr>\n",
       "    <tr>\n",
       "      <th>3</th>\n",
       "      <td>Wii Sports Resort</td>\n",
       "      <td>Wii</td>\n",
       "      <td>32.77</td>\n",
       "    </tr>\n",
       "    <tr>\n",
       "      <th>4</th>\n",
       "      <td>Pokemon Red/Pokemon Blue</td>\n",
       "      <td>GB</td>\n",
       "      <td>31.37</td>\n",
       "    </tr>\n",
       "    <tr>\n",
       "      <th>5</th>\n",
       "      <td>Tetris</td>\n",
       "      <td>GB</td>\n",
       "      <td>30.26</td>\n",
       "    </tr>\n",
       "    <tr>\n",
       "      <th>6</th>\n",
       "      <td>New Super Mario Bros.</td>\n",
       "      <td>DS</td>\n",
       "      <td>29.80</td>\n",
       "    </tr>\n",
       "    <tr>\n",
       "      <th>7</th>\n",
       "      <td>Wii Play</td>\n",
       "      <td>Wii</td>\n",
       "      <td>28.92</td>\n",
       "    </tr>\n",
       "    <tr>\n",
       "      <th>8</th>\n",
       "      <td>New Super Mario Bros. Wii</td>\n",
       "      <td>Wii</td>\n",
       "      <td>28.32</td>\n",
       "    </tr>\n",
       "    <tr>\n",
       "      <th>9</th>\n",
       "      <td>Duck Hunt</td>\n",
       "      <td>NES</td>\n",
       "      <td>28.31</td>\n",
       "    </tr>\n",
       "  </tbody>\n",
       "</table>\n",
       "</div>"
      ],
      "text/plain": [
       "                        name platform  global_sales\n",
       "0                 Wii Sports      Wii         82.53\n",
       "1          Super Mario Bros.      NES         40.24\n",
       "2             Mario Kart Wii      Wii         35.52\n",
       "3          Wii Sports Resort      Wii         32.77\n",
       "4   Pokemon Red/Pokemon Blue       GB         31.37\n",
       "5                     Tetris       GB         30.26\n",
       "6      New Super Mario Bros.       DS         29.80\n",
       "7                   Wii Play      Wii         28.92\n",
       "8  New Super Mario Bros. Wii      Wii         28.32\n",
       "9                  Duck Hunt      NES         28.31"
      ]
     },
     "execution_count": 37,
     "metadata": {},
     "output_type": "execute_result"
    }
   ],
   "source": [
    "# The top 25 games with highest global sales (in millions)\n",
    "games[['name','platform','global_sales']].sort_values('global_sales', ascending = False).head(10)"
   ]
  },
  {
   "cell_type": "markdown",
   "id": "8ff557bc-71bb-4696-87a5-52a7c3a0990c",
   "metadata": {},
   "source": [
    "### 2A. What are the top 10 most successful publishers? "
   ]
  },
  {
   "cell_type": "code",
   "execution_count": 8,
   "id": "e5a8bb42-7135-42b8-9547-c629694d6eba",
   "metadata": {
    "tags": []
   },
   "outputs": [
    {
     "data": {
      "text/html": [
       "<div>\n",
       "<style scoped>\n",
       "    .dataframe tbody tr th:only-of-type {\n",
       "        vertical-align: middle;\n",
       "    }\n",
       "\n",
       "    .dataframe tbody tr th {\n",
       "        vertical-align: top;\n",
       "    }\n",
       "\n",
       "    .dataframe thead th {\n",
       "        text-align: right;\n",
       "    }\n",
       "</style>\n",
       "<table border=\"1\" class=\"dataframe\">\n",
       "  <thead>\n",
       "    <tr style=\"text-align: right;\">\n",
       "      <th></th>\n",
       "      <th>publisher</th>\n",
       "      <th>global_sales</th>\n",
       "    </tr>\n",
       "  </thead>\n",
       "  <tbody>\n",
       "    <tr>\n",
       "      <th>0</th>\n",
       "      <td>Nintendo</td>\n",
       "      <td>1788.81</td>\n",
       "    </tr>\n",
       "    <tr>\n",
       "      <th>1</th>\n",
       "      <td>Electronic Arts</td>\n",
       "      <td>1116.96</td>\n",
       "    </tr>\n",
       "    <tr>\n",
       "      <th>2</th>\n",
       "      <td>Activision</td>\n",
       "      <td>731.16</td>\n",
       "    </tr>\n",
       "    <tr>\n",
       "      <th>3</th>\n",
       "      <td>Sony Computer Entertainment</td>\n",
       "      <td>606.48</td>\n",
       "    </tr>\n",
       "    <tr>\n",
       "      <th>4</th>\n",
       "      <td>Ubisoft</td>\n",
       "      <td>471.61</td>\n",
       "    </tr>\n",
       "    <tr>\n",
       "      <th>5</th>\n",
       "      <td>Take-Two Interactive</td>\n",
       "      <td>403.82</td>\n",
       "    </tr>\n",
       "    <tr>\n",
       "      <th>6</th>\n",
       "      <td>THQ</td>\n",
       "      <td>338.44</td>\n",
       "    </tr>\n",
       "    <tr>\n",
       "      <th>7</th>\n",
       "      <td>Konami Digital Entertainment</td>\n",
       "      <td>282.39</td>\n",
       "    </tr>\n",
       "    <tr>\n",
       "      <th>8</th>\n",
       "      <td>Sega</td>\n",
       "      <td>270.35</td>\n",
       "    </tr>\n",
       "    <tr>\n",
       "      <th>9</th>\n",
       "      <td>Namco Bandai Games</td>\n",
       "      <td>254.62</td>\n",
       "    </tr>\n",
       "  </tbody>\n",
       "</table>\n",
       "</div>"
      ],
      "text/plain": [
       "                      publisher  global_sales\n",
       "0                      Nintendo       1788.81\n",
       "1               Electronic Arts       1116.96\n",
       "2                    Activision        731.16\n",
       "3   Sony Computer Entertainment        606.48\n",
       "4                       Ubisoft        471.61\n",
       "5          Take-Two Interactive        403.82\n",
       "6                           THQ        338.44\n",
       "7  Konami Digital Entertainment        282.39\n",
       "8                          Sega        270.35\n",
       "9            Namco Bandai Games        254.62"
      ]
     },
     "execution_count": 8,
     "metadata": {},
     "output_type": "execute_result"
    }
   ],
   "source": [
    "# aggregate dataset\n",
    "pub = games.groupby('publisher').agg({'global_sales': 'sum'})\n",
    "\n",
    "# top 10 publishers with highest sales (in millions)\n",
    "pub.sort_values('global_sales', ascending = False).head(10).reset_index()"
   ]
  },
  {
   "cell_type": "markdown",
   "id": "06dfc36c-dc1d-40b6-9b0e-6d1961d9cdf2",
   "metadata": {
    "tags": []
   },
   "source": [
    "### 2B. What are the top 10 most successful developers? "
   ]
  },
  {
   "cell_type": "code",
   "execution_count": 38,
   "id": "c89fb486-ddb3-4753-b932-4e2311f4484f",
   "metadata": {
    "tags": []
   },
   "outputs": [
    {
     "data": {
      "text/html": [
       "<div>\n",
       "<style scoped>\n",
       "    .dataframe tbody tr th:only-of-type {\n",
       "        vertical-align: middle;\n",
       "    }\n",
       "\n",
       "    .dataframe tbody tr th {\n",
       "        vertical-align: top;\n",
       "    }\n",
       "\n",
       "    .dataframe thead th {\n",
       "        text-align: right;\n",
       "    }\n",
       "</style>\n",
       "<table border=\"1\" class=\"dataframe\">\n",
       "  <thead>\n",
       "    <tr style=\"text-align: right;\">\n",
       "      <th></th>\n",
       "      <th>developer</th>\n",
       "      <th>global_sales</th>\n",
       "    </tr>\n",
       "  </thead>\n",
       "  <tbody>\n",
       "    <tr>\n",
       "      <th>0</th>\n",
       "      <td>Nintendo</td>\n",
       "      <td>531.71</td>\n",
       "    </tr>\n",
       "    <tr>\n",
       "      <th>1</th>\n",
       "      <td>EA Sports</td>\n",
       "      <td>175.38</td>\n",
       "    </tr>\n",
       "    <tr>\n",
       "      <th>2</th>\n",
       "      <td>EA Canada</td>\n",
       "      <td>142.32</td>\n",
       "    </tr>\n",
       "    <tr>\n",
       "      <th>3</th>\n",
       "      <td>Ubisoft</td>\n",
       "      <td>132.54</td>\n",
       "    </tr>\n",
       "    <tr>\n",
       "      <th>4</th>\n",
       "      <td>Rockstar North</td>\n",
       "      <td>119.47</td>\n",
       "    </tr>\n",
       "    <tr>\n",
       "      <th>5</th>\n",
       "      <td>Capcom</td>\n",
       "      <td>115.71</td>\n",
       "    </tr>\n",
       "    <tr>\n",
       "      <th>6</th>\n",
       "      <td>Ubisoft Montreal</td>\n",
       "      <td>108.31</td>\n",
       "    </tr>\n",
       "    <tr>\n",
       "      <th>7</th>\n",
       "      <td>Treyarch</td>\n",
       "      <td>103.16</td>\n",
       "    </tr>\n",
       "    <tr>\n",
       "      <th>8</th>\n",
       "      <td>EA Tiburon</td>\n",
       "      <td>96.12</td>\n",
       "    </tr>\n",
       "    <tr>\n",
       "      <th>9</th>\n",
       "      <td>Traveller's Tales</td>\n",
       "      <td>79.22</td>\n",
       "    </tr>\n",
       "  </tbody>\n",
       "</table>\n",
       "</div>"
      ],
      "text/plain": [
       "           developer  global_sales\n",
       "0           Nintendo        531.71\n",
       "1          EA Sports        175.38\n",
       "2          EA Canada        142.32\n",
       "3            Ubisoft        132.54\n",
       "4     Rockstar North        119.47\n",
       "5             Capcom        115.71\n",
       "6   Ubisoft Montreal        108.31\n",
       "7           Treyarch        103.16\n",
       "8         EA Tiburon         96.12\n",
       "9  Traveller's Tales         79.22"
      ]
     },
     "execution_count": 38,
     "metadata": {},
     "output_type": "execute_result"
    }
   ],
   "source": [
    "# aggregate dataset\n",
    "dev = games.groupby('developer').agg({'global_sales': 'sum'})\n",
    "\n",
    "# top 10 publishers with highest sales (in millions)\n",
    "dev.sort_values('global_sales', ascending = False).head(10).reset_index()"
   ]
  },
  {
   "cell_type": "markdown",
   "id": "9db6c627-644d-4cd0-98de-b48a8d413e36",
   "metadata": {},
   "source": [
    "### 3. What video game genres have the highest global sales? "
   ]
  },
  {
   "cell_type": "code",
   "execution_count": 55,
   "id": "4fb5092b-fa3f-4c3a-9b90-1b8464d5de66",
   "metadata": {
    "tags": []
   },
   "outputs": [
    {
     "data": {
      "text/html": [
       "<div>\n",
       "<style scoped>\n",
       "    .dataframe tbody tr th:only-of-type {\n",
       "        vertical-align: middle;\n",
       "    }\n",
       "\n",
       "    .dataframe tbody tr th {\n",
       "        vertical-align: top;\n",
       "    }\n",
       "\n",
       "    .dataframe thead th {\n",
       "        text-align: right;\n",
       "    }\n",
       "</style>\n",
       "<table border=\"1\" class=\"dataframe\">\n",
       "  <thead>\n",
       "    <tr style=\"text-align: right;\">\n",
       "      <th></th>\n",
       "      <th>genre</th>\n",
       "      <th>number of games</th>\n",
       "      <th>total sales</th>\n",
       "      <th>average sales</th>\n",
       "    </tr>\n",
       "  </thead>\n",
       "  <tbody>\n",
       "    <tr>\n",
       "      <th>0</th>\n",
       "      <td>Action</td>\n",
       "      <td>3370</td>\n",
       "      <td>1745.27</td>\n",
       "      <td>0.52</td>\n",
       "    </tr>\n",
       "    <tr>\n",
       "      <th>10</th>\n",
       "      <td>Sports</td>\n",
       "      <td>2348</td>\n",
       "      <td>1332.00</td>\n",
       "      <td>0.57</td>\n",
       "    </tr>\n",
       "    <tr>\n",
       "      <th>8</th>\n",
       "      <td>Shooter</td>\n",
       "      <td>1323</td>\n",
       "      <td>1052.94</td>\n",
       "      <td>0.80</td>\n",
       "    </tr>\n",
       "    <tr>\n",
       "      <th>7</th>\n",
       "      <td>Role-Playing</td>\n",
       "      <td>1500</td>\n",
       "      <td>934.40</td>\n",
       "      <td>0.62</td>\n",
       "    </tr>\n",
       "    <tr>\n",
       "      <th>4</th>\n",
       "      <td>Platform</td>\n",
       "      <td>888</td>\n",
       "      <td>828.08</td>\n",
       "      <td>0.93</td>\n",
       "    </tr>\n",
       "    <tr>\n",
       "      <th>3</th>\n",
       "      <td>Misc</td>\n",
       "      <td>1750</td>\n",
       "      <td>803.18</td>\n",
       "      <td>0.46</td>\n",
       "    </tr>\n",
       "    <tr>\n",
       "      <th>6</th>\n",
       "      <td>Racing</td>\n",
       "      <td>1249</td>\n",
       "      <td>728.90</td>\n",
       "      <td>0.58</td>\n",
       "    </tr>\n",
       "    <tr>\n",
       "      <th>2</th>\n",
       "      <td>Fighting</td>\n",
       "      <td>849</td>\n",
       "      <td>447.48</td>\n",
       "      <td>0.53</td>\n",
       "    </tr>\n",
       "    <tr>\n",
       "      <th>9</th>\n",
       "      <td>Simulation</td>\n",
       "      <td>874</td>\n",
       "      <td>390.42</td>\n",
       "      <td>0.45</td>\n",
       "    </tr>\n",
       "    <tr>\n",
       "      <th>5</th>\n",
       "      <td>Puzzle</td>\n",
       "      <td>580</td>\n",
       "      <td>243.02</td>\n",
       "      <td>0.42</td>\n",
       "    </tr>\n",
       "    <tr>\n",
       "      <th>1</th>\n",
       "      <td>Adventure</td>\n",
       "      <td>1303</td>\n",
       "      <td>237.69</td>\n",
       "      <td>0.18</td>\n",
       "    </tr>\n",
       "    <tr>\n",
       "      <th>11</th>\n",
       "      <td>Strategy</td>\n",
       "      <td>683</td>\n",
       "      <td>174.50</td>\n",
       "      <td>0.26</td>\n",
       "    </tr>\n",
       "  </tbody>\n",
       "</table>\n",
       "</div>"
      ],
      "text/plain": [
       "           genre  number of games  total sales  average sales\n",
       "0         Action             3370      1745.27           0.52\n",
       "10        Sports             2348      1332.00           0.57\n",
       "8        Shooter             1323      1052.94           0.80\n",
       "7   Role-Playing             1500       934.40           0.62\n",
       "4       Platform              888       828.08           0.93\n",
       "3           Misc             1750       803.18           0.46\n",
       "6         Racing             1249       728.90           0.58\n",
       "2       Fighting              849       447.48           0.53\n",
       "9     Simulation              874       390.42           0.45\n",
       "5         Puzzle              580       243.02           0.42\n",
       "1      Adventure             1303       237.69           0.18\n",
       "11      Strategy              683       174.50           0.26"
      ]
     },
     "execution_count": 55,
     "metadata": {},
     "output_type": "execute_result"
    }
   ],
   "source": [
    "# aggregate dataset\n",
    "genre = games.groupby('genre').agg({'global_sales': ['count','sum','mean']}).reset_index()\n",
    "\n",
    "# drop first level & rename\n",
    "genre.columns = genre.columns.droplevel(0)\n",
    "genre.columns = ['genre','number of games','total sales','average sales']\n",
    "\n",
    "# return values \n",
    "genre.sort_values('total sales', ascending = False)"
   ]
  },
  {
   "cell_type": "markdown",
   "id": "918ae5d8-12fa-47ff-b889-23333230fe97",
   "metadata": {},
   "source": [
    "### 4. Does video game get better over the year? "
   ]
  },
  {
   "cell_type": "code",
   "execution_count": 58,
   "id": "900b3335-27b1-4f76-a1c4-f0702a547b56",
   "metadata": {
    "tags": []
   },
   "outputs": [
    {
     "data": {
      "text/html": [
       "<div>\n",
       "<style scoped>\n",
       "    .dataframe tbody tr th:only-of-type {\n",
       "        vertical-align: middle;\n",
       "    }\n",
       "\n",
       "    .dataframe tbody tr th {\n",
       "        vertical-align: top;\n",
       "    }\n",
       "\n",
       "    .dataframe thead th {\n",
       "        text-align: right;\n",
       "    }\n",
       "</style>\n",
       "<table border=\"1\" class=\"dataframe\">\n",
       "  <thead>\n",
       "    <tr style=\"text-align: right;\">\n",
       "      <th></th>\n",
       "      <th>release_year</th>\n",
       "      <th>global_sales</th>\n",
       "    </tr>\n",
       "  </thead>\n",
       "  <tbody>\n",
       "    <tr>\n",
       "      <th>28</th>\n",
       "      <td>2008.0</td>\n",
       "      <td>671.79</td>\n",
       "    </tr>\n",
       "    <tr>\n",
       "      <th>29</th>\n",
       "      <td>2009.0</td>\n",
       "      <td>658.88</td>\n",
       "    </tr>\n",
       "    <tr>\n",
       "      <th>27</th>\n",
       "      <td>2007.0</td>\n",
       "      <td>605.37</td>\n",
       "    </tr>\n",
       "    <tr>\n",
       "      <th>30</th>\n",
       "      <td>2010.0</td>\n",
       "      <td>590.59</td>\n",
       "    </tr>\n",
       "    <tr>\n",
       "      <th>26</th>\n",
       "      <td>2006.0</td>\n",
       "      <td>518.22</td>\n",
       "    </tr>\n",
       "    <tr>\n",
       "      <th>31</th>\n",
       "      <td>2011.0</td>\n",
       "      <td>507.79</td>\n",
       "    </tr>\n",
       "    <tr>\n",
       "      <th>25</th>\n",
       "      <td>2005.0</td>\n",
       "      <td>458.31</td>\n",
       "    </tr>\n",
       "    <tr>\n",
       "      <th>24</th>\n",
       "      <td>2004.0</td>\n",
       "      <td>419.05</td>\n",
       "    </tr>\n",
       "    <tr>\n",
       "      <th>22</th>\n",
       "      <td>2002.0</td>\n",
       "      <td>395.51</td>\n",
       "    </tr>\n",
       "    <tr>\n",
       "      <th>33</th>\n",
       "      <td>2013.0</td>\n",
       "      <td>361.24</td>\n",
       "    </tr>\n",
       "  </tbody>\n",
       "</table>\n",
       "</div>"
      ],
      "text/plain": [
       "    release_year  global_sales\n",
       "28        2008.0        671.79\n",
       "29        2009.0        658.88\n",
       "27        2007.0        605.37\n",
       "30        2010.0        590.59\n",
       "26        2006.0        518.22\n",
       "31        2011.0        507.79\n",
       "25        2005.0        458.31\n",
       "24        2004.0        419.05\n",
       "22        2002.0        395.51\n",
       "33        2013.0        361.24"
      ]
     },
     "metadata": {},
     "output_type": "display_data"
    },
    {
     "data": {
      "image/png": "[encoded data removed]",
      "text/plain": [
       "<Figure size 640x480 with 1 Axes>"
      ]
     },
     "metadata": {},
     "output_type": "display_data"
    }
   ],
   "source": [
    "# aggregate dataset\n",
    "year = games.groupby('release_year').agg({'global_sales': 'sum'}).reset_index()\n",
    "\n",
    "# display year\n",
    "display(year.sort_values('global_sales', ascending = False).head(10))\n",
    "\n",
    "# Style (style, palette argument)\n",
    "sns.set(style = 'white')  \n",
    "\n",
    "# ax\n",
    "ax = sns.lineplot(x = 'release_year',\n",
    "                  y = 'global_sales',\n",
    "                  color = 'brown',\n",
    "                  data = year)\n",
    "\n",
    "# Changing Axis Name\n",
    "ax.set(xlabel = 'Released Year',\n",
    "       ylabel = 'Global Sales (in Millions Copies)',\n",
    "       title = 'Sales of Video Games Over the Years (1980 - 2020)')\n",
    "\n",
    "# show the plot \n",
    "plt.show()\n"
   ]
  },
  {
   "cell_type": "markdown",
   "id": "f03170a0-c429-4792-a809-cc44d8926ca7",
   "metadata": {},
   "source": [
    "### 5. What platforms have the most sales in video games?"
   ]
  },
  {
   "cell_type": "code",
   "execution_count": 34,
   "id": "35641652-5840-4bfd-ad72-5a5dcc0eb2ff",
   "metadata": {},
   "outputs": [
    {
     "data": {
      "image/png": "[encoded data removed]",
      "text/plain": [
       "<Figure size 640x480 with 1 Axes>"
      ]
     },
     "metadata": {},
     "output_type": "display_data"
    }
   ],
   "source": [
    "# aggregate dataset\n",
    "plat = games.groupby('platform').agg({'global_sales': 'sum'})\n",
    "plat = plat[plat['global_sales'] >= 100]\n",
    "plat = plat.sort_values('global_sales', ascending = False).reset_index()\n",
    "\n",
    "# Style (style, palette argument)\n",
    "sns.set(style = 'white')  \n",
    "\n",
    "# ax\n",
    "ax = sns.barplot(x = 'global_sales',\n",
    "                 y = 'platform',\n",
    "                 color = 'brown',\n",
    "                 data = plat)\n",
    "\n",
    "# Changing Axis Name\n",
    "ax.set(xlabel = 'Global Sales (in Millions Copies)',\n",
    "       ylabel = 'Platforms',\n",
    "       title = 'Video Games Platforms with at Least 100 Millions Copies Sold Globally')\n",
    "\n",
    "# show the plot \n",
    "plt.show()"
   ]
  },
  {
   "cell_type": "markdown",
   "id": "0dc20e73-1336-4177-8ca9-736b3078187b",
   "metadata": {},
   "source": [
    "### 6. What are the association between global sales of video games and each predictors? "
   ]
  },
  {
   "cell_type": "code",
   "execution_count": null,
   "id": "145f14c6-6afb-4f11-8313-19af10980133",
   "metadata": {},
   "outputs": [],
   "source": []
  },
  {
   "cell_type": "markdown",
   "id": "87400e27-f884-4d1a-8517-2b60c1906d20",
   "metadata": {},
   "source": [
    "# DATA CLEANING "
   ]
  },
  {
   "cell_type": "code",
   "execution_count": null,
   "id": "0040b431-b966-42ec-a443-84196605d86c",
   "metadata": {},
   "outputs": [],
   "source": []
  },
  {
   "cell_type": "markdown",
   "id": "b133314c-96e5-44d4-a502-80216db87ef3",
   "metadata": {},
   "source": [
    "### Duplicates"
   ]
  },
  {
   "cell_type": "code",
   "execution_count": 131,
   "id": "d399f4e6-e08b-4b85-b0bf-adadf8ccfe1a",
   "metadata": {
    "tags": []
   },
   "outputs": [
    {
     "name": "stdout",
     "output_type": "stream",
     "text": [
      "The dataframe has a total of 16719 rows & 12 columns. A total of 9894 NA values were detected.\n",
      "  This dataframe has 0 duplicated rows\n"
     ]
    },
    {
     "data": {
      "text/html": [
       "<div>\n",
       "<style scoped>\n",
       "    .dataframe tbody tr th:only-of-type {\n",
       "        vertical-align: middle;\n",
       "    }\n",
       "\n",
       "    .dataframe tbody tr th {\n",
       "        vertical-align: top;\n",
       "    }\n",
       "\n",
       "    .dataframe thead th {\n",
       "        text-align: right;\n",
       "    }\n",
       "</style>\n",
       "<table border=\"1\" class=\"dataframe\">\n",
       "  <thead>\n",
       "    <tr style=\"text-align: right;\">\n",
       "      <th></th>\n",
       "      <th>Variables</th>\n",
       "      <th>Type</th>\n",
       "      <th>Unique Values</th>\n",
       "      <th>Sum of Unique Values</th>\n",
       "      <th>Sum of NaN Values</th>\n",
       "      <th>% of NaN</th>\n",
       "    </tr>\n",
       "  </thead>\n",
       "  <tbody>\n",
       "    <tr>\n",
       "      <th>8</th>\n",
       "      <td>user_scores</td>\n",
       "      <td>float64</td>\n",
       "      <td>8.0, nan, 8.3, 8.5, 6.6, 8.4, 8.6, 7.7, 6.3, 7...</td>\n",
       "      <td>96</td>\n",
       "      <td>9129</td>\n",
       "      <td>54.6</td>\n",
       "    </tr>\n",
       "    <tr>\n",
       "      <th>9</th>\n",
       "      <td>n_user</td>\n",
       "      <td>float64</td>\n",
       "      <td>322.0, nan, 709.0, 192.0, 431.0, 129.0, 594.0,...</td>\n",
       "      <td>889</td>\n",
       "      <td>9129</td>\n",
       "      <td>54.6</td>\n",
       "    </tr>\n",
       "    <tr>\n",
       "      <th>6</th>\n",
       "      <td>critic_scores</td>\n",
       "      <td>float64</td>\n",
       "      <td>76.0, nan, 82.0, 80.0, 89.0, 58.0, 87.0, 91.0,...</td>\n",
       "      <td>83</td>\n",
       "      <td>8582</td>\n",
       "      <td>51.3</td>\n",
       "    </tr>\n",
       "    <tr>\n",
       "      <th>7</th>\n",
       "      <td>n_critic</td>\n",
       "      <td>float64</td>\n",
       "      <td>51.0, nan, 73.0, 65.0, 41.0, 80.0, 64.0, 63.0,...</td>\n",
       "      <td>107</td>\n",
       "      <td>8582</td>\n",
       "      <td>51.3</td>\n",
       "    </tr>\n",
       "    <tr>\n",
       "      <th>11</th>\n",
       "      <td>esrb</td>\n",
       "      <td>object</td>\n",
       "      <td>E, nan, M, T, E10+, K-A, AO, EC, RP</td>\n",
       "      <td>9</td>\n",
       "      <td>6769</td>\n",
       "      <td>40.5</td>\n",
       "    </tr>\n",
       "    <tr>\n",
       "      <th>10</th>\n",
       "      <td>developer</td>\n",
       "      <td>object</td>\n",
       "      <td>Nintendo, nan, Good Science Studio, Rockstar N...</td>\n",
       "      <td>1697</td>\n",
       "      <td>6623</td>\n",
       "      <td>39.6</td>\n",
       "    </tr>\n",
       "    <tr>\n",
       "      <th>2</th>\n",
       "      <td>release_year</td>\n",
       "      <td>float64</td>\n",
       "      <td>2006.0, 1985.0, 2008.0, 2009.0, 1996.0, 1989.0...</td>\n",
       "      <td>40</td>\n",
       "      <td>269</td>\n",
       "      <td>1.6</td>\n",
       "    </tr>\n",
       "    <tr>\n",
       "      <th>4</th>\n",
       "      <td>publisher</td>\n",
       "      <td>object</td>\n",
       "      <td>Nintendo, Microsoft Game Studios, Take-Two Int...</td>\n",
       "      <td>583</td>\n",
       "      <td>54</td>\n",
       "      <td>0.3</td>\n",
       "    </tr>\n",
       "    <tr>\n",
       "      <th>0</th>\n",
       "      <td>name</td>\n",
       "      <td>object</td>\n",
       "      <td>Wii Sports, Super Mario Bros., Mario Kart Wii,...</td>\n",
       "      <td>11563</td>\n",
       "      <td>2</td>\n",
       "      <td>0.0</td>\n",
       "    </tr>\n",
       "    <tr>\n",
       "      <th>1</th>\n",
       "      <td>platform</td>\n",
       "      <td>object</td>\n",
       "      <td>Wii, NES, GB, DS, X360, PS3, PS2, SNES, GBA, P...</td>\n",
       "      <td>31</td>\n",
       "      <td>0</td>\n",
       "      <td>0.0</td>\n",
       "    </tr>\n",
       "    <tr>\n",
       "      <th>3</th>\n",
       "      <td>genre</td>\n",
       "      <td>object</td>\n",
       "      <td>Sports, Platform, Racing, Role-Playing, Puzzle...</td>\n",
       "      <td>13</td>\n",
       "      <td>2</td>\n",
       "      <td>0.0</td>\n",
       "    </tr>\n",
       "    <tr>\n",
       "      <th>5</th>\n",
       "      <td>global_sales</td>\n",
       "      <td>float64</td>\n",
       "      <td>82.53, 40.24, 35.52, 32.77, 31.37, 30.26, 29.8...</td>\n",
       "      <td>629</td>\n",
       "      <td>0</td>\n",
       "      <td>0.0</td>\n",
       "    </tr>\n",
       "  </tbody>\n",
       "</table>\n",
       "</div>"
      ],
      "text/plain": [
       "        Variables     Type                                      Unique Values  Sum of Unique Values  Sum of NaN Values  % of NaN\n",
       "8     user_scores  float64  8.0, nan, 8.3, 8.5, 6.6, 8.4, 8.6, 7.7, 6.3, 7...                    96               9129      54.6\n",
       "9          n_user  float64  322.0, nan, 709.0, 192.0, 431.0, 129.0, 594.0,...                   889               9129      54.6\n",
       "6   critic_scores  float64  76.0, nan, 82.0, 80.0, 89.0, 58.0, 87.0, 91.0,...                    83               8582      51.3\n",
       "7        n_critic  float64  51.0, nan, 73.0, 65.0, 41.0, 80.0, 64.0, 63.0,...                   107               8582      51.3\n",
       "11           esrb   object                E, nan, M, T, E10+, K-A, AO, EC, RP                     9               6769      40.5\n",
       "10      developer   object  Nintendo, nan, Good Science Studio, Rockstar N...                  1697               6623      39.6\n",
       "2    release_year  float64  2006.0, 1985.0, 2008.0, 2009.0, 1996.0, 1989.0...                    40                269       1.6\n",
       "4       publisher   object  Nintendo, Microsoft Game Studios, Take-Two Int...                   583                 54       0.3\n",
       "0            name   object  Wii Sports, Super Mario Bros., Mario Kart Wii,...                 11563                  2       0.0\n",
       "1        platform   object  Wii, NES, GB, DS, X360, PS3, PS2, SNES, GBA, P...                    31                  0       0.0\n",
       "3           genre   object  Sports, Platform, Racing, Role-Playing, Puzzle...                    13                  2       0.0\n",
       "5    global_sales  float64  82.53, 40.24, 35.52, 32.77, 31.37, 30.26, 29.8...                   629                  0       0.0"
      ]
     },
     "metadata": {},
     "output_type": "display_data"
    }
   ],
   "source": [
    "# check for duplicates & NA values\n",
    "nadup(games)"
   ]
  },
  {
   "cell_type": "markdown",
   "id": "f401a3de-e725-4211-b17a-eb1f55aa2d39",
   "metadata": {},
   "source": [
    "Because there are no duplicates, no duplicate treatment is necessary. But there are a total of 9894 missing values, two of which are in the `name` and `genre`. "
   ]
  },
  {
   "cell_type": "code",
   "execution_count": 132,
   "id": "28745191-00a8-4915-8228-1a3d7fcaf7c9",
   "metadata": {},
   "outputs": [
    {
     "data": {
      "text/html": [
       "<div>\n",
       "<style scoped>\n",
       "    .dataframe tbody tr th:only-of-type {\n",
       "        vertical-align: middle;\n",
       "    }\n",
       "\n",
       "    .dataframe tbody tr th {\n",
       "        vertical-align: top;\n",
       "    }\n",
       "\n",
       "    .dataframe thead th {\n",
       "        text-align: right;\n",
       "    }\n",
       "</style>\n",
       "<table border=\"1\" class=\"dataframe\">\n",
       "  <thead>\n",
       "    <tr style=\"text-align: right;\">\n",
       "      <th></th>\n",
       "      <th>name</th>\n",
       "      <th>platform</th>\n",
       "      <th>release_year</th>\n",
       "      <th>genre</th>\n",
       "      <th>publisher</th>\n",
       "      <th>global_sales</th>\n",
       "      <th>critic_scores</th>\n",
       "      <th>n_critic</th>\n",
       "      <th>user_scores</th>\n",
       "      <th>n_user</th>\n",
       "      <th>developer</th>\n",
       "      <th>esrb</th>\n",
       "    </tr>\n",
       "  </thead>\n",
       "  <tbody>\n",
       "    <tr>\n",
       "      <th>659</th>\n",
       "      <td>NaN</td>\n",
       "      <td>GEN</td>\n",
       "      <td>1993.0</td>\n",
       "      <td>NaN</td>\n",
       "      <td>Acclaim Entertainment</td>\n",
       "      <td>2.39</td>\n",
       "      <td>NaN</td>\n",
       "      <td>NaN</td>\n",
       "      <td>NaN</td>\n",
       "      <td>NaN</td>\n",
       "      <td>NaN</td>\n",
       "      <td>NaN</td>\n",
       "    </tr>\n",
       "    <tr>\n",
       "      <th>14246</th>\n",
       "      <td>NaN</td>\n",
       "      <td>GEN</td>\n",
       "      <td>1993.0</td>\n",
       "      <td>NaN</td>\n",
       "      <td>Acclaim Entertainment</td>\n",
       "      <td>0.03</td>\n",
       "      <td>NaN</td>\n",
       "      <td>NaN</td>\n",
       "      <td>NaN</td>\n",
       "      <td>NaN</td>\n",
       "      <td>NaN</td>\n",
       "      <td>NaN</td>\n",
       "    </tr>\n",
       "  </tbody>\n",
       "</table>\n",
       "</div>"
      ],
      "text/plain": [
       "      name platform  release_year genre              publisher  global_sales  critic_scores  n_critic  user_scores  n_user developer esrb\n",
       "659    NaN      GEN        1993.0   NaN  Acclaim Entertainment          2.39            NaN       NaN          NaN     NaN       NaN  NaN\n",
       "14246  NaN      GEN        1993.0   NaN  Acclaim Entertainment          0.03            NaN       NaN          NaN     NaN       NaN  NaN"
      ]
     },
     "execution_count": 132,
     "metadata": {},
     "output_type": "execute_result"
    }
   ],
   "source": [
    "# Display by variable \n",
    "(games[games['name'].isnull()])"
   ]
  },
  {
   "cell_type": "markdown",
   "id": "a065ca16-37ac-4808-ab63-e38da1a2de10",
   "metadata": {},
   "source": [
    "There is no useful information with these two rows. Many of the columns are empty. These two rows will be dropped. "
   ]
  },
  {
   "cell_type": "code",
   "execution_count": 133,
   "id": "efef3145-71ce-44fd-918f-553464156b27",
   "metadata": {},
   "outputs": [],
   "source": [
    "# drop na rows by subset\n",
    "games = games.dropna(subset=[\"name\"])"
   ]
  },
  {
   "cell_type": "code",
   "execution_count": 134,
   "id": "f61f49c6-19fa-4efb-9e9d-12efc5b90c0f",
   "metadata": {
    "tags": []
   },
   "outputs": [],
   "source": [
    "# drop the name columns \n",
    "games = games.drop(columns = ['name','developer','publisher'])"
   ]
  },
  {
   "cell_type": "markdown",
   "id": "91824335-feb9-4e13-97a9-b958294736a8",
   "metadata": {},
   "source": [
    "### NA values"
   ]
  },
  {
   "cell_type": "markdown",
   "id": "d061472e-b2a6-4e84-8ab1-abd643ab2dd2",
   "metadata": {},
   "source": [
    "##### Multiple Imputation"
   ]
  },
  {
   "cell_type": "code",
   "execution_count": 135,
   "id": "87381805-7d2a-4f36-9ef9-6488f3c94dbc",
   "metadata": {
    "tags": []
   },
   "outputs": [],
   "source": [
    "# step 1. importing library\n",
    "from sklearn.experimental import enable_iterative_imputer\n",
    "from sklearn.impute import IterativeImputer"
   ]
  },
  {
   "cell_type": "code",
   "execution_count": 136,
   "id": "6b3db071-5565-4801-8e2b-cde222292ff1",
   "metadata": {
    "tags": []
   },
   "outputs": [],
   "source": [
    "# step 2. create a copy\n",
    "df_copy = games.copy()"
   ]
  },
  {
   "cell_type": "code",
   "execution_count": 137,
   "id": "972db22e-f502-414d-acb6-edf79e1efa5b",
   "metadata": {
    "tags": []
   },
   "outputs": [],
   "source": [
    "# step 3. Dummy code all categorical values \n",
    "from pandas import get_dummies \n",
    "\n",
    "# Get a Pd.Series consisting of all the string categoricals\n",
    "one_hot_encode_cols = df_copy.dtypes[df_copy.dtypes == object]  # filtering by string categoricals\n",
    "one_hot_encode_cols = one_hot_encode_cols.index.tolist()          # list of categorical fields\n",
    "\n",
    "# the dummy coding step\n",
    "df_copy = pd.get_dummies(df_copy,\n",
    "                         columns=one_hot_encode_cols,\n",
    "                         drop_first=True,\n",
    "                         dtype = int)"
   ]
  },
  {
   "cell_type": "code",
   "execution_count": 139,
   "id": "fce366c3-9fea-4dc6-b47b-8da85cabb5b0",
   "metadata": {
    "tags": []
   },
   "outputs": [],
   "source": [
    "# step 4. identify the missing values \n",
    "missing_mask = df_copy.isna()"
   ]
  },
  {
   "cell_type": "code",
   "execution_count": 140,
   "id": "d4c3c645-48ef-4996-b456-1f787e0d2551",
   "metadata": {
    "tags": []
   },
   "outputs": [],
   "source": [
    "# step 5. Instantiate the MICE imputer with the desired parameters\n",
    "imputer = IterativeImputer(max_iter=10, random_state=0)\n",
    "\n",
    "# max_iter = maximum number of imputation rounds. \n",
    "# random_state = set seeds "
   ]
  },
  {
   "cell_type": "code",
   "execution_count": 142,
   "id": "34e811de-7e0a-4ef8-a663-3a22e5d0cb0f",
   "metadata": {
    "tags": []
   },
   "outputs": [],
   "source": [
    "# step 6. Fit the imputer on the data and transform it to obtain the imputed values\n",
    "imputed_values = imputer.fit_transform(df_copy)"
   ]
  },
  {
   "cell_type": "code",
   "execution_count": 143,
   "id": "9f30a138-dc90-435a-9ab0-e555d5708e5b",
   "metadata": {
    "tags": []
   },
   "outputs": [],
   "source": [
    "# step 7. replace the missing values with the imputed ones\n",
    "df_copy[missing_mask] = imputed_values\n",
    "\n",
    "# check and see if there are any NA values \n",
    "nadup(df_copy)"
   ]
  },
  {
   "cell_type": "markdown",
   "id": "ecef0d9a-b0bb-4435-821e-34cd9bd6b967",
   "metadata": {},
   "source": [
    "##### Creating NA tracking columns"
   ]
  },
  {
   "cell_type": "code",
   "execution_count": 11,
   "id": "65472e85-a4ad-4853-80cd-e37bbb07d776",
   "metadata": {},
   "outputs": [
    {
     "data": {
      "text/html": [
       "<div>\n",
       "<style scoped>\n",
       "    .dataframe tbody tr th:only-of-type {\n",
       "        vertical-align: middle;\n",
       "    }\n",
       "\n",
       "    .dataframe tbody tr th {\n",
       "        vertical-align: top;\n",
       "    }\n",
       "\n",
       "    .dataframe thead th {\n",
       "        text-align: right;\n",
       "    }\n",
       "</style>\n",
       "<table border=\"1\" class=\"dataframe\">\n",
       "  <thead>\n",
       "    <tr style=\"text-align: right;\">\n",
       "      <th></th>\n",
       "      <th>name</th>\n",
       "      <th>platform</th>\n",
       "      <th>release_year</th>\n",
       "      <th>genre</th>\n",
       "      <th>publisher</th>\n",
       "      <th>global_sales</th>\n",
       "      <th>critic_scores</th>\n",
       "      <th>n_critic</th>\n",
       "      <th>user_scores</th>\n",
       "      <th>n_user</th>\n",
       "      <th>developer</th>\n",
       "      <th>esrb</th>\n",
       "      <th>name_exist</th>\n",
       "      <th>platform_exist</th>\n",
       "      <th>release_year_exist</th>\n",
       "      <th>genre_exist</th>\n",
       "      <th>publisher_exist</th>\n",
       "      <th>global_sales_exist</th>\n",
       "      <th>critic_scores_exist</th>\n",
       "      <th>n_critic_exist</th>\n",
       "      <th>user_scores_exist</th>\n",
       "      <th>n_user_exist</th>\n",
       "      <th>developer_exist</th>\n",
       "      <th>esrb_exist</th>\n",
       "    </tr>\n",
       "  </thead>\n",
       "  <tbody>\n",
       "    <tr>\n",
       "      <th>0</th>\n",
       "      <td>Wii Sports</td>\n",
       "      <td>Wii</td>\n",
       "      <td>2006.0</td>\n",
       "      <td>Sports</td>\n",
       "      <td>Nintendo</td>\n",
       "      <td>82.53</td>\n",
       "      <td>76.0</td>\n",
       "      <td>51.0</td>\n",
       "      <td>8.0</td>\n",
       "      <td>322.0</td>\n",
       "      <td>Nintendo</td>\n",
       "      <td>E</td>\n",
       "      <td>1</td>\n",
       "      <td>1</td>\n",
       "      <td>1</td>\n",
       "      <td>1</td>\n",
       "      <td>1</td>\n",
       "      <td>1</td>\n",
       "      <td>1</td>\n",
       "      <td>1</td>\n",
       "      <td>1</td>\n",
       "      <td>1</td>\n",
       "      <td>1</td>\n",
       "      <td>1</td>\n",
       "    </tr>\n",
       "    <tr>\n",
       "      <th>1</th>\n",
       "      <td>Super Mario Bros.</td>\n",
       "      <td>NES</td>\n",
       "      <td>1985.0</td>\n",
       "      <td>Platform</td>\n",
       "      <td>Nintendo</td>\n",
       "      <td>40.24</td>\n",
       "      <td>NaN</td>\n",
       "      <td>NaN</td>\n",
       "      <td>NaN</td>\n",
       "      <td>NaN</td>\n",
       "      <td>NaN</td>\n",
       "      <td>NaN</td>\n",
       "      <td>1</td>\n",
       "      <td>1</td>\n",
       "      <td>1</td>\n",
       "      <td>1</td>\n",
       "      <td>1</td>\n",
       "      <td>1</td>\n",
       "      <td>0</td>\n",
       "      <td>0</td>\n",
       "      <td>0</td>\n",
       "      <td>0</td>\n",
       "      <td>0</td>\n",
       "      <td>0</td>\n",
       "    </tr>\n",
       "    <tr>\n",
       "      <th>2</th>\n",
       "      <td>Mario Kart Wii</td>\n",
       "      <td>Wii</td>\n",
       "      <td>2008.0</td>\n",
       "      <td>Racing</td>\n",
       "      <td>Nintendo</td>\n",
       "      <td>35.52</td>\n",
       "      <td>82.0</td>\n",
       "      <td>73.0</td>\n",
       "      <td>8.3</td>\n",
       "      <td>709.0</td>\n",
       "      <td>Nintendo</td>\n",
       "      <td>E</td>\n",
       "      <td>1</td>\n",
       "      <td>1</td>\n",
       "      <td>1</td>\n",
       "      <td>1</td>\n",
       "      <td>1</td>\n",
       "      <td>1</td>\n",
       "      <td>1</td>\n",
       "      <td>1</td>\n",
       "      <td>1</td>\n",
       "      <td>1</td>\n",
       "      <td>1</td>\n",
       "      <td>1</td>\n",
       "    </tr>\n",
       "    <tr>\n",
       "      <th>3</th>\n",
       "      <td>Wii Sports Resort</td>\n",
       "      <td>Wii</td>\n",
       "      <td>2009.0</td>\n",
       "      <td>Sports</td>\n",
       "      <td>Nintendo</td>\n",
       "      <td>32.77</td>\n",
       "      <td>80.0</td>\n",
       "      <td>73.0</td>\n",
       "      <td>8.0</td>\n",
       "      <td>192.0</td>\n",
       "      <td>Nintendo</td>\n",
       "      <td>E</td>\n",
       "      <td>1</td>\n",
       "      <td>1</td>\n",
       "      <td>1</td>\n",
       "      <td>1</td>\n",
       "      <td>1</td>\n",
       "      <td>1</td>\n",
       "      <td>1</td>\n",
       "      <td>1</td>\n",
       "      <td>1</td>\n",
       "      <td>1</td>\n",
       "      <td>1</td>\n",
       "      <td>1</td>\n",
       "    </tr>\n",
       "    <tr>\n",
       "      <th>4</th>\n",
       "      <td>Pokemon Red/Pokemon Blue</td>\n",
       "      <td>GB</td>\n",
       "      <td>1996.0</td>\n",
       "      <td>Role-Playing</td>\n",
       "      <td>Nintendo</td>\n",
       "      <td>31.37</td>\n",
       "      <td>NaN</td>\n",
       "      <td>NaN</td>\n",
       "      <td>NaN</td>\n",
       "      <td>NaN</td>\n",
       "      <td>NaN</td>\n",
       "      <td>NaN</td>\n",
       "      <td>1</td>\n",
       "      <td>1</td>\n",
       "      <td>1</td>\n",
       "      <td>1</td>\n",
       "      <td>1</td>\n",
       "      <td>1</td>\n",
       "      <td>0</td>\n",
       "      <td>0</td>\n",
       "      <td>0</td>\n",
       "      <td>0</td>\n",
       "      <td>0</td>\n",
       "      <td>0</td>\n",
       "    </tr>\n",
       "  </tbody>\n",
       "</table>\n",
       "</div>"
      ],
      "text/plain": [
       "                       name platform  release_year         genre publisher  global_sales  critic_scores  n_critic  user_scores  n_user developer esrb  name_exist  platform_exist  release_year_exist  genre_exist  publisher_exist  global_sales_exist  critic_scores_exist  n_critic_exist  user_scores_exist  n_user_exist  developer_exist  esrb_exist\n",
       "0                Wii Sports      Wii        2006.0        Sports  Nintendo         82.53           76.0      51.0          8.0   322.0  Nintendo    E           1               1                   1            1                1                   1                    1               1                  1             1                1           1\n",
       "1         Super Mario Bros.      NES        1985.0      Platform  Nintendo         40.24            NaN       NaN          NaN     NaN       NaN  NaN           1               1                   1            1                1                   1                    0               0                  0             0                0           0\n",
       "2            Mario Kart Wii      Wii        2008.0        Racing  Nintendo         35.52           82.0      73.0          8.3   709.0  Nintendo    E           1               1                   1            1                1                   1                    1               1                  1             1                1           1\n",
       "3         Wii Sports Resort      Wii        2009.0        Sports  Nintendo         32.77           80.0      73.0          8.0   192.0  Nintendo    E           1               1                   1            1                1                   1                    1               1                  1             1                1           1\n",
       "4  Pokemon Red/Pokemon Blue       GB        1996.0  Role-Playing  Nintendo         31.37            NaN       NaN          NaN     NaN       NaN  NaN           1               1                   1            1                1                   1                    0               0                  0             0                0           0"
      ]
     },
     "execution_count": 11,
     "metadata": {},
     "output_type": "execute_result"
    }
   ],
   "source": [
    "# null tracking columns\n",
    "games = pd.concat([games, games.notnull().astype(int).add_suffix('_exist')], axis=1)\n",
    "\n",
    "# info\n",
    "games.head()"
   ]
  },
  {
   "cell_type": "code",
   "execution_count": null,
   "id": "e4c9414e-a82c-477d-a46a-076c96864b5c",
   "metadata": {},
   "outputs": [],
   "source": []
  },
  {
   "cell_type": "markdown",
   "id": "c86371a1-5df2-4b35-a42e-9cffde8e4bfa",
   "metadata": {},
   "source": [
    "# PRE-PROCESSING"
   ]
  },
  {
   "cell_type": "markdown",
   "id": "b23ecd43-ef8c-4e79-a708-eada90233533",
   "metadata": {},
   "source": [
    "### Standardization "
   ]
  },
  {
   "cell_type": "code",
   "execution_count": null,
   "id": "72c5fa6c-f401-4a6c-9eb7-8d7ab13b07ed",
   "metadata": {},
   "outputs": [],
   "source": []
  },
  {
   "cell_type": "markdown",
   "id": "ae35ec52-349b-4d08-b03f-cdd758a52580",
   "metadata": {},
   "source": [
    "### Outliers"
   ]
  },
  {
   "cell_type": "code",
   "execution_count": null,
   "id": "476b95b3-66ba-4533-885a-ac5275b81c83",
   "metadata": {},
   "outputs": [],
   "source": []
  },
  {
   "cell_type": "markdown",
   "id": "7610518b-0c8b-400d-b0f2-ceae15d8f874",
   "metadata": {},
   "source": [
    "### Features Engineering "
   ]
  },
  {
   "cell_type": "code",
   "execution_count": null,
   "id": "5ad960a6-a9d0-4a8b-81cf-f0eb3bc82dc9",
   "metadata": {},
   "outputs": [],
   "source": []
  },
  {
   "cell_type": "markdown",
   "id": "e081d153-8ea1-44fe-8c91-ce1dbf1cb64f",
   "metadata": {},
   "source": [
    "### Train-Test Split"
   ]
  },
  {
   "cell_type": "code",
   "execution_count": null,
   "id": "82ea3dde-d3c8-49d8-8510-5292b00eb904",
   "metadata": {},
   "outputs": [],
   "source": []
  },
  {
   "cell_type": "markdown",
   "id": "308469e7-15f6-46dd-85b5-b1aa9e77c585",
   "metadata": {},
   "source": [
    "# SUPERVISED ML MODELS - REGRESSION"
   ]
  },
  {
   "cell_type": "markdown",
   "id": "3773264e-fe61-42b5-81c1-32bf8ebfd7cb",
   "metadata": {},
   "source": [
    "### Model 1"
   ]
  },
  {
   "cell_type": "code",
   "execution_count": null,
   "id": "88f05e37-53c8-4e19-914b-42e920f46048",
   "metadata": {},
   "outputs": [],
   "source": []
  },
  {
   "cell_type": "markdown",
   "id": "1be59234-b3f6-45d2-8eeb-5a1f31bdf587",
   "metadata": {},
   "source": [
    "### Model 2"
   ]
  },
  {
   "cell_type": "code",
   "execution_count": null,
   "id": "c09d444f-671a-44cc-8be3-863109dd591e",
   "metadata": {},
   "outputs": [],
   "source": []
  },
  {
   "cell_type": "markdown",
   "id": "03f36570-c602-4996-9ea2-d187d7544d06",
   "metadata": {},
   "source": [
    "### Model 3"
   ]
  },
  {
   "cell_type": "code",
   "execution_count": null,
   "id": "d8367f49-21bd-48e4-8ef8-b135a5e264d6",
   "metadata": {},
   "outputs": [],
   "source": []
  },
  {
   "cell_type": "markdown",
   "id": "5e5e5fe0-cadf-43a8-ae2e-37c921e0aaaa",
   "metadata": {},
   "source": [
    "### Cross-Validation"
   ]
  },
  {
   "cell_type": "code",
   "execution_count": null,
   "id": "c523e7fd-8664-493b-97c2-f1d6d3830ead",
   "metadata": {},
   "outputs": [],
   "source": []
  },
  {
   "cell_type": "markdown",
   "id": "6a1715c9-7966-4b04-8eda-df30ac858274",
   "metadata": {},
   "source": [
    "### Evaluation Metric"
   ]
  },
  {
   "cell_type": "markdown",
   "id": "739835ba-607c-4563-9715-b092b70750b3",
   "metadata": {},
   "source": [
    "##### Comparison Table"
   ]
  },
  {
   "cell_type": "code",
   "execution_count": null,
   "id": "fd50d8c9-b820-4e5b-9638-72108f206d1d",
   "metadata": {},
   "outputs": [],
   "source": []
  },
  {
   "cell_type": "markdown",
   "id": "8fda2b5b-8c50-44f4-9317-6054dbdaa78d",
   "metadata": {},
   "source": [
    "##### Plot of all Prediction"
   ]
  },
  {
   "cell_type": "code",
   "execution_count": null,
   "id": "69f4643a-c3b6-4118-a1ab-494b41e69dbb",
   "metadata": {},
   "outputs": [],
   "source": []
  },
  {
   "cell_type": "markdown",
   "id": "4724c9a7-0f79-4209-8be7-096871a21d1a",
   "metadata": {},
   "source": [
    "# CONCLUSION"
   ]
  },
  {
   "cell_type": "markdown",
   "id": "06e81ac0-6606-473a-b391-445c0a3f7551",
   "metadata": {},
   "source": [
    "# References"
   ]
  },
  {
   "cell_type": "markdown",
   "id": "e76bde87-7f27-4b3a-b398-3d07b7bfb26c",
   "metadata": {},
   "source": [
    "### Minh K. Chau"
   ]
  },
  {
   "cell_type": "code",
   "execution_count": null,
   "id": "8abaa13a-c6a5-4a9c-bc4a-238f34af093b",
   "metadata": {},
   "outputs": [],
   "source": []
  }
 ],
 "metadata": {
  "kernelspec": {
   "display_name": "Python 3 (ipykernel)",
   "language": "python",
   "name": "python3"
  },
  "language_info": {
   "codemirror_mode": {
    "name": "ipython",
    "version": 3
   },
   "file_extension": ".py",
   "mimetype": "text/x-python",
   "name": "python",
   "nbconvert_exporter": "python",
   "pygments_lexer": "ipython3",
   "version": "3.11.5"
  }
 },
 "nbformat": 4,
 "nbformat_minor": 5
}
